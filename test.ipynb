{
 "cells": [
  {
   "cell_type": "code",
   "execution_count": 1,
   "metadata": {},
   "outputs": [],
   "source": [
    "from pymilvus import connections, Collection, utility\n",
    "from pymilvus import utility\n",
    "import google.generativeai as genai\n",
    "from local_settings import API_KEY,uri,token\n",
    "from pymilvus import MilvusClient\n",
    "from helper_func import create_prompt, process_data\n",
    "\n",
    "connections.connect(uri=uri,token=token)\n",
    "milvus_client = MilvusClient(uri=uri,token=token)\n",
    "\n",
    "collection_name = \"my_rag_collection2\""
   ]
  },
  {
   "cell_type": "code",
   "execution_count": 2,
   "metadata": {},
   "outputs": [
    {
     "data": {
      "text/plain": [
       "21326"
      ]
     },
     "execution_count": 2,
     "metadata": {},
     "output_type": "execute_result"
    }
   ],
   "source": [
    "\n",
    "collection = Collection(collection_name)\n",
    "collection.num_entities "
   ]
  },
  {
   "cell_type": "code",
   "execution_count": 3,
   "metadata": {},
   "outputs": [
    {
     "data": {
      "text/plain": [
       "['my_rag_collection2']"
      ]
     },
     "execution_count": 3,
     "metadata": {},
     "output_type": "execute_result"
    }
   ],
   "source": [
    "utility.list_collections()"
   ]
  },
  {
   "cell_type": "code",
   "execution_count": 4,
   "metadata": {},
   "outputs": [
    {
     "name": "stdout",
     "output_type": "stream",
     "text": [
      "[{'count(*)': 21326}]\n"
     ]
    }
   ],
   "source": [
    "res = collection.query(expr=\"\", output_fields=[\"count(*)\"])\n",
    "print(res)"
   ]
  },
  {
   "cell_type": "code",
   "execution_count": 5,
   "metadata": {},
   "outputs": [],
   "source": [
    "embedding_model = 'models/text-embedding-004'\n",
    "genai.configure(api_key=API_KEY)\n",
    "def embed_fn(title, text):\n",
    "  return genai.embed_content(model=embedding_model,\n",
    "                             content=text,\n",
    "                             task_type=\"retrieval_document\",\n",
    "                             title=title)[\"embedding\"]"
   ]
  },
  {
   "cell_type": "code",
   "execution_count": 6,
   "metadata": {},
   "outputs": [],
   "source": [
    "question = \"What does do you do?\"\n",
    "\n",
    "search_res = milvus_client.search(\n",
    "    collection_name=collection_name,\n",
    "    data=[\n",
    "        embed_fn(question,question)\n",
    "    ],  # Use the `emb_text` function to convert the question to an embedding vector\n",
    "    limit=7,  # Return top 3 results\n",
    "    search_params={\"metric_type\": \"COSINE\",  \"params\": {\"level\": 2}},  # Inner product distance\n",
    "    output_fields=[\"text\"],  # Return the text field\n",
    ")"
   ]
  },
  {
   "cell_type": "code",
   "execution_count": 7,
   "metadata": {},
   "outputs": [
    {
     "data": {
      "text/plain": [
       "[(['Can You Provide A Sample Answer For Everyone To See? ',\n",
       "   'Here is a sample answer . Authors simply answer the questions posed by those asking them , to the best of our ability . The answers must be at least 50 words in length so that there is information conveyed rather than just yes or no responses . We are not allowed to copy answers from other websites or repeat answers verbatim . '],\n",
       "  0.575653076171875),\n",
       " (['Why Can ',\n",
       "   \"Why can ? A simple question , but yet , so complex ! Why can someone do this or why can someone do that ? I have often pondered for hours to come up with the answer . And I believe , after years of thought-provoking consultation with friends and relatives ... I have the answer to the question `` Why can ? '' The answer ? Why not ? \"],\n",
       "  0.5728439092636108),\n",
       " (['What Does A Health Insurance Broker Do? ',\n",
       "   \"What does n't a health insurance broker . To put it simply we interact with all of the different elements in health insurance , clients , carriers , and doctors . We are an advocate for our client first . We will evaluate plan structure and cost , communication to employees , paperwork to and from the carriers , answer HR questions on regulations , resolve claim issues with employees , and make sure everything goes smoothly . We can add to this but this is a short definition . \"],\n",
       "  0.5527257323265076),\n",
       " (['Is Selling Life Insurance A Good Job? ',\n",
       "   \"I think we have one of the most important & rewarding jobs in America . Joe Jordan sums it up best : `` What I do for a living is I protect the innocent when someone dies prematurely . I provide a worry-free retirement that people ca n't outlive . I protect their assets when they get sick . I provide a legacy when they die . '' \"],\n",
       "  0.550473690032959),\n",
       " (['What Does A Life Insurance Agent Do? ',\n",
       "   \"A life insurance agent sells life insurance . Their job is a combination of marketer , school teacher , and entertainer . You spend most of your time looking for people who want to talk about insuring your family . Then you spend a much smaller amount of time teaching the person how everything actually works and what their options are . Then after all that you spend the next week trying to convince the insurance company to accept the applicant and that they are n't already one foot in the grave . \"],\n",
       "  0.5483968257904053),\n",
       " (['What Is It Like To Sell Life Insurance? ',\n",
       "   'Selling Life Insurance is one of the greatest professions to be in . Yes , we have to address the death question which no one likes to talk about however knowing we are providing financial stability even if a little to a family or person who is grieving the loss of a loved one or partner is very gratifying to me . There is no other career like it . '],\n",
       "  0.5426555871963501),\n",
       " (['What Does A Life Insurance Underwriter Do? ',\n",
       "   \"In addition to what Bob said I will add that it is very popular nowadays for a lot of agents to call themselves underwriters . Or field underwriters . That is done to mislead the public . Part of an agents job is to do the initial assessment of whether you qualify to apply . You can call this field underwriting . But that does n't make an agent an `` underwriter '' any more than faxing a piece of paper makes him a `` faxer . '' Some times an agent will go to great lengths to not call himself an insurance agent . \"],\n",
       "  0.5336840748786926)]"
      ]
     },
     "execution_count": 7,
     "metadata": {},
     "output_type": "execute_result"
    }
   ],
   "source": [
    "retrieved_lines_with_distances = [\n",
    "    (res[\"entity\"][\"text\"], res[\"distance\"]) for res in search_res[0]\n",
    "]\n",
    "retrieved_lines_with_distances"
   ]
  },
  {
   "cell_type": "code",
   "execution_count": 19,
   "metadata": {},
   "outputs": [
    {
     "name": "stdout",
     "output_type": "stream",
     "text": [
      "Q: Can You Provide A Sample Answer For Everyone To See?\n",
      "A: Here is a sample answer . Authors simply answer the questions posed by those asking them , to the best of our ability . The answers must be at least 50 words in length so that there is information conveyed rather than just yes or no responses . We are not allowed to copy answers from other websites or repeat answers verbatim .\n",
      "\n",
      "Q: Why Can\n",
      "A: Why can ? A simple question , but yet , so complex ! Why can someone do this or why can someone do that ? I have often pondered for hours to come up with the answer . And I believe , after years of thought-provoking consultation with friends and relatives ... I have the answer to the question `` Why can ? '' The answer ? Why not ?\n",
      "\n",
      "Q: What Does A Health Insurance Broker Do?\n",
      "A: What does n't a health insurance broker . To put it simply we interact with all of the different elements in health insurance , clients , carriers , and doctors . We are an advocate for our client first . We will evaluate plan structure and cost , communication to employees , paperwork to and from the carriers , answer HR questions on regulations , resolve claim issues with employees , and make sure everything goes smoothly . We can add to this but this is a short definition .\n",
      "\n",
      "Q: Is Selling Life Insurance A Good Job?\n",
      "A: I think we have one of the most important & rewarding jobs in America . Joe Jordan sums it up best : `` What I do for a living is I protect the innocent when someone dies prematurely . I provide a worry-free retirement that people ca n't outlive . I protect their assets when they get sick . I provide a legacy when they die . ''\n",
      "\n",
      "Q: What Does A Life Insurance Agent Do?\n",
      "A: A life insurance agent sells life insurance . Their job is a combination of marketer , school teacher , and entertainer . You spend most of your time looking for people who want to talk about insuring your family . Then you spend a much smaller amount of time teaching the person how everything actually works and what their options are . Then after all that you spend the next week trying to convince the insurance company to accept the applicant and that they are n't already one foot in the grave .\n",
      "\n",
      "Q: What Is It Like To Sell Life Insurance?\n",
      "A: Selling Life Insurance is one of the greatest professions to be in . Yes , we have to address the death question which no one likes to talk about however knowing we are providing financial stability even if a little to a family or person who is grieving the loss of a loved one or partner is very gratifying to me . There is no other career like it .\n",
      "\n",
      "Q: What Does A Life Insurance Underwriter Do?\n",
      "A: In addition to what Bob said I will add that it is very popular nowadays for a lot of agents to call themselves underwriters . Or field underwriters . That is done to mislead the public . Part of an agents job is to do the initial assessment of whether you qualify to apply . You can call this field underwriting . But that does n't make an agent an `` underwriter '' any more than faxing a piece of paper makes him a `` faxer . '' Some times an agent will go to great lengths to not call himself an insurance agent .\n",
      "\n",
      "\n",
      "CPU times: total: 0 ns\n",
      "Wall time: 999 µs\n"
     ]
    }
   ],
   "source": [
    "\n",
    "querry_data= process_data(retrieved_lines_with_distances)\n",
    "print(querry_data)"
   ]
  },
  {
   "cell_type": "code",
   "execution_count": 20,
   "metadata": {},
   "outputs": [
    {
     "name": "stdout",
     "output_type": "stream",
     "text": [
      "\n",
      "Task: Your are a Insurance assistance, your job is based on a conversation of a costumer and a insurance expert, \n",
      "answer insurance-related questions accurately and provide some short explanation.\n",
      "Instructions:\n",
      "Read the context carefully.\n",
      "Consider key points, concepts, and details within the document.\n",
      "Generate questions that seek information or clarification about the document's content.\n",
      "Ensure that the questions are grammatically correct and understandable.\n",
      "Give the answer directly, do not repeat the question or add any unrelated text\n",
      "ONLY answers question related to the function of the application or insurance\n",
      "If the question is not related to the context or there is no answer in the context, tell the users the question is not related to insurance or there is no answer in your database\n",
      "Context:\n",
      "Q: Can You Provide A Sample Answer For Everyone To See?\n",
      "A: Here is a sample answer . Authors simply answer the questions posed by those asking them , to the best of our ability . The answers must be at least 50 words in length so that there is information conveyed rather than just yes or no responses . We are not allowed to copy answers from other websites or repeat answers verbatim .\n",
      "\n",
      "Q: Why Can\n",
      "A: Why can ? A simple question , but yet , so complex ! Why can someone do this or why can someone do that ? I have often pondered for hours to come up with the answer . And I believe , after years of thought-provoking consultation with friends and relatives ... I have the answer to the question `` Why can ? '' The answer ? Why not ?\n",
      "\n",
      "Q: What Does A Health Insurance Broker Do?\n",
      "A: What does n't a health insurance broker . To put it simply we interact with all of the different elements in health insurance , clients , carriers , and doctors . We are an advocate for our client first . We will evaluate plan structure and cost , communication to employees , paperwork to and from the carriers , answer HR questions on regulations , resolve claim issues with employees , and make sure everything goes smoothly . We can add to this but this is a short definition .\n",
      "\n",
      "Q: Is Selling Life Insurance A Good Job?\n",
      "A: I think we have one of the most important & rewarding jobs in America . Joe Jordan sums it up best : `` What I do for a living is I protect the innocent when someone dies prematurely . I provide a worry-free retirement that people ca n't outlive . I protect their assets when they get sick . I provide a legacy when they die . ''\n",
      "\n",
      "Q: What Does A Life Insurance Agent Do?\n",
      "A: A life insurance agent sells life insurance . Their job is a combination of marketer , school teacher , and entertainer . You spend most of your time looking for people who want to talk about insuring your family . Then you spend a much smaller amount of time teaching the person how everything actually works and what their options are . Then after all that you spend the next week trying to convince the insurance company to accept the applicant and that they are n't already one foot in the grave .\n",
      "\n",
      "Q: What Is It Like To Sell Life Insurance?\n",
      "A: Selling Life Insurance is one of the greatest professions to be in . Yes , we have to address the death question which no one likes to talk about however knowing we are providing financial stability even if a little to a family or person who is grieving the loss of a loved one or partner is very gratifying to me . There is no other career like it .\n",
      "\n",
      "Q: What Does A Life Insurance Underwriter Do?\n",
      "A: In addition to what Bob said I will add that it is very popular nowadays for a lot of agents to call themselves underwriters . Or field underwriters . That is done to mislead the public . Part of an agents job is to do the initial assessment of whether you qualify to apply . You can call this field underwriting . But that does n't make an agent an `` underwriter '' any more than faxing a piece of paper makes him a `` faxer . '' Some times an agent will go to great lengths to not call himself an insurance agent .\n",
      "\n",
      "\n",
      "\n",
      "Question:\n",
      "\n",
      "\n",
      "\n",
      "CPU times: total: 0 ns\n",
      "Wall time: 0 ns\n"
     ]
    }
   ],
   "source": [
    "%%time\n",
    "testing_question=\"\"\n",
    "prompt=create_prompt(querry_data,testing_question)\n",
    "print(prompt)"
   ]
  },
  {
   "cell_type": "code",
   "execution_count": 21,
   "metadata": {},
   "outputs": [
    {
     "name": "stdout",
     "output_type": "stream",
     "text": [
      "CPU times: total: 0 ns\n",
      "Wall time: 2.32 s\n"
     ]
    }
   ],
   "source": [
    "%%time\n",
    "LLM_model = genai.GenerativeModel('gemini-pro')\n",
    "response = LLM_model.generate_content(prompt)"
   ]
  },
  {
   "cell_type": "code",
   "execution_count": 22,
   "metadata": {},
   "outputs": [
    {
     "name": "stdout",
     "output_type": "stream",
     "text": [
      "Question is not related to insurance\n"
     ]
    }
   ],
   "source": [
    "print( response.text.replace(\"JSON\", \"\").replace(\"```\",\"\"))"
   ]
  }
 ],
 "metadata": {
  "kernelspec": {
   "display_name": "Python 3",
   "language": "python",
   "name": "python3"
  },
  "language_info": {
   "codemirror_mode": {
    "name": "ipython",
    "version": 3
   },
   "file_extension": ".py",
   "mimetype": "text/x-python",
   "name": "python",
   "nbconvert_exporter": "python",
   "pygments_lexer": "ipython3",
   "version": "3.12.2"
  }
 },
 "nbformat": 4,
 "nbformat_minor": 2
}
