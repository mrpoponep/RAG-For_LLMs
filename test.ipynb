{
 "cells": [
  {
   "cell_type": "code",
   "execution_count": 1,
   "metadata": {},
   "outputs": [],
   "source": [
    "from pymilvus import connections, Collection, utility\n",
    "from pymilvus import utility\n",
    "import google.generativeai as genai\n",
    "from local_settings import API_KEY,uri,token\n",
    "from pymilvus import MilvusClient\n",
    "from helper_func import create_prompt, process_data\n",
    "\n",
    "connections.connect(uri=uri,token=token)\n",
    "milvus_client = MilvusClient(uri=uri,token=token)\n",
    "\n",
    "collection_name = \"my_rag_collection2\""
   ]
  },
  {
   "cell_type": "code",
   "execution_count": 2,
   "metadata": {},
   "outputs": [
    {
     "data": {
      "text/plain": [
       "21326"
      ]
     },
     "execution_count": 2,
     "metadata": {},
     "output_type": "execute_result"
    }
   ],
   "source": [
    "\n",
    "collection = Collection(collection_name)\n",
    "collection.num_entities "
   ]
  },
  {
   "cell_type": "code",
   "execution_count": 3,
   "metadata": {},
   "outputs": [
    {
     "data": {
      "text/plain": [
       "['my_rag_collection2']"
      ]
     },
     "execution_count": 3,
     "metadata": {},
     "output_type": "execute_result"
    }
   ],
   "source": [
    "utility.list_collections()"
   ]
  },
  {
   "cell_type": "code",
   "execution_count": 4,
   "metadata": {},
   "outputs": [
    {
     "name": "stdout",
     "output_type": "stream",
     "text": [
      "[{'count(*)': 21326}]\n"
     ]
    }
   ],
   "source": [
    "res = collection.query(expr=\"\", output_fields=[\"count(*)\"])\n",
    "print(res)"
   ]
  },
  {
   "cell_type": "code",
   "execution_count": 5,
   "metadata": {},
   "outputs": [],
   "source": [
    "embedding_model = 'models/text-embedding-004'\n",
    "genai.configure(api_key=API_KEY)\n",
    "def embed_fn(title, text):\n",
    "  return genai.embed_content(model=embedding_model,\n",
    "                             content=text,\n",
    "                             task_type=\"retrieval_document\",\n",
    "                             title=title)[\"embedding\"]"
   ]
  },
  {
   "cell_type": "code",
   "execution_count": 6,
   "metadata": {},
   "outputs": [],
   "source": [
    "question = \"What Are Tax Sheltered Annuities?\"\n",
    "\n",
    "search_res = milvus_client.search(\n",
    "    collection_name=collection_name,\n",
    "    data=[\n",
    "        embed_fn(question,question)\n",
    "    ],  # Use the `emb_text` function to convert the question to an embedding vector\n",
    "    limit=7,  # Return top 3 results\n",
    "    search_params={\"metric_type\": \"COSINE\",  \"params\": {\"level\": 2}},  # Inner product distance\n",
    "    output_fields=[\"text\"],  # Return the text field\n",
    ")"
   ]
  },
  {
   "cell_type": "code",
   "execution_count": 7,
   "metadata": {},
   "outputs": [
    {
     "data": {
      "text/plain": [
       "[(['What Are Tax Sheltered Annuities? ',\n",
       "   'Qualified annuities generally refer to tax deferred annuities is a qualified plan like ab ERISA -LRB- Employee Retirement Income Security Act of 1974 -LRB- qualified plan such as a 410 -LRB- k -RRB- . By inserting tax deferred annuities into a qualified plan contribution re-characterizes the basis as taxable during distributions , i.e. the entire annuity distributions are taxable as ordinary income . '],\n",
       "  0.8431991934776306),\n",
       " (['What Are Tax Sheltered Annuities? ',\n",
       "   'An employer can establish a plan in which contributions are deducted from the employees reported income and the money is invested in an annuity . The money placed in the annuity and the interest that it earns are not subject to current income tax . The benefits , when withdrawn are taxable as ordinary income . The best known Tax Sheltered Annuity is allowed under section 403 -LRB- b -RRB- of the Internal Revenue Code . '],\n",
       "  0.8355906009674072),\n",
       " (['What Are Tax Sheltered Annuities? ',\n",
       "   \"Tax sheltered annuities -LRB- TSA 's -RRB- are a type of retirement plan that allows employees of eligible public educational organizations or tax exempt organizations to contribute part of their pre-taxed salary to the plan with tax deferred growth . Employers are also allowed to contribute to a tax sheltered annuity for the employee . Authorized by IRS Section 403 -LRB- b -RRB- , TSA 's are also called 403 -LRB- b -RRB- plans . \"],\n",
       "  0.8251411318778992),\n",
       " (['What Exactly Are Annuities? ',\n",
       "   \"Annuities is an excellent vehicle for savings . You can `` dollar cost `` average into a Tax Shelter Annuity which is a retirement planning instrument for employees with 501C organizations or if you have monies in Certificate of Deposit and it is fully taxable you can switch the dollars into an annuity and stop the taxation until you start taking the money out which can be delayed until 70\\xa01/2 . An annuity is a great way to assure that you will never outlive your income as you take monthly payments from the value of the annuity . There are `` fixed annuities '' , `` indexed annuities-which are linked to an index , or you can even have a `` variable annuity that is tied directly to the performance of the stock market . If you work for a 501C organization and do have a tax shelter annuity you need to find a good financial planner . \"],\n",
       "  0.8156970143318176),\n",
       " (['What Does It Mean To Have Money In A Tax Deferred Annuity? ',\n",
       "   \"That is a great question ! A tax deferred annuity is a great way to helpfund a retirement plan . In this type of vehicle , the money that you put into the annuity grows steadily . The interest that it earns stays in the annuity , and is n't counted yearly as income , so is n't taxable . Once the point comes when you start taking payments from it however , that earned interest becomes taxable , and is counted as income . Everything in the annuity over the amount that you started with is considered taxable income and you will count the interest on your taxes each year that you receive payments . The idea behind this strategy is that once you 've retired , you 've dropped in your yearly earnings , and thus into a lower tax bracket , and yet again saved money . If you would like more detail on this financial tool , please contact me , okay ? Thanks for asking ! \"],\n",
       "  0.7864653468132019),\n",
       " (['What Are Tax Annuities? ',\n",
       "   'Non-qualified tax deferred annuities accumulate tax deferred and when distributions are generated the gain in the contract is taxable as ordinary income tax at the effective tax bracket rate of the annuity owner . If the annuity is owned by an artificial entity and not a person the deferral aspect is forfeit and the gain is taxed annually . '],\n",
       "  0.7841180562973022),\n",
       " (['What Is A Deferred Annuity Plan? ',\n",
       "   'A deferred Annuity means your Taxes are not payed until you start taking money out of the account , tax-deferral . All Annuities have this tax deferral so it does not matter what kind of Annuity you get . An annuity is a contract between you and an insurance company . The annuity will credit money to your account according to the method which comes with the Annuity . There is so much more you need to know about annuities before you get one so please follow up with your Broker or contact me if you do not have one . '],\n",
       "  0.7839967608451843)]"
      ]
     },
     "execution_count": 7,
     "metadata": {},
     "output_type": "execute_result"
    }
   ],
   "source": [
    "retrieved_lines_with_distances = [\n",
    "    (res[\"entity\"][\"text\"], res[\"distance\"]) for res in search_res[0]\n",
    "]\n",
    "retrieved_lines_with_distances"
   ]
  },
  {
   "cell_type": "code",
   "execution_count": 8,
   "metadata": {},
   "outputs": [
    {
     "name": "stdout",
     "output_type": "stream",
     "text": [
      "Q: What Are Tax Sheltered Annuities?\n",
      "A: Qualified annuities generally refer to tax deferred annuities is a qualified plan like ab ERISA -LRB- Employee Retirement Income Security Act of 1974 -LRB- qualified plan such as a 410 -LRB- k -RRB- . By inserting tax deferred annuities into a qualified plan contribution re-characterizes the basis as taxable during distributions , i.e. the entire annuity distributions are taxable as ordinary income .\n",
      "\n",
      "Q: What Are Tax Sheltered Annuities?\n",
      "A: An employer can establish a plan in which contributions are deducted from the employees reported income and the money is invested in an annuity . The money placed in the annuity and the interest that it earns are not subject to current income tax . The benefits , when withdrawn are taxable as ordinary income . The best known Tax Sheltered Annuity is allowed under section 403 -LRB- b -RRB- of the Internal Revenue Code .\n",
      "\n",
      "Q: What Are Tax Sheltered Annuities?\n",
      "A: Tax sheltered annuities -LRB- TSA 's -RRB- are a type of retirement plan that allows employees of eligible public educational organizations or tax exempt organizations to contribute part of their pre-taxed salary to the plan with tax deferred growth . Employers are also allowed to contribute to a tax sheltered annuity for the employee . Authorized by IRS Section 403 -LRB- b -RRB- , TSA 's are also called 403 -LRB- b -RRB- plans .\n",
      "\n",
      "Q: What Exactly Are Annuities?\n",
      "A: Annuities is an excellent vehicle for savings . You can `` dollar cost `` average into a Tax Shelter Annuity which is a retirement planning instrument for employees with 501C organizations or if you have monies in Certificate of Deposit and it is fully taxable you can switch the dollars into an annuity and stop the taxation until you start taking the money out which can be delayed until 70 1/2 . An annuity is a great way to assure that you will never outlive your income as you take monthly payments from the value of the annuity . There are `` fixed annuities '' , `` indexed annuities-which are linked to an index , or you can even have a `` variable annuity that is tied directly to the performance of the stock market . If you work for a 501C organization and do have a tax shelter annuity you need to find a good financial planner .\n",
      "\n",
      "Q: What Does It Mean To Have Money In A Tax Deferred Annuity?\n",
      "A: That is a great question ! A tax deferred annuity is a great way to helpfund a retirement plan . In this type of vehicle , the money that you put into the annuity grows steadily . The interest that it earns stays in the annuity , and is n't counted yearly as income , so is n't taxable . Once the point comes when you start taking payments from it however , that earned interest becomes taxable , and is counted as income . Everything in the annuity over the amount that you started with is considered taxable income and you will count the interest on your taxes each year that you receive payments . The idea behind this strategy is that once you 've retired , you 've dropped in your yearly earnings , and thus into a lower tax bracket , and yet again saved money . If you would like more detail on this financial tool , please contact me , okay ? Thanks for asking !\n",
      "\n",
      "Q: What Are Tax Annuities?\n",
      "A: Non-qualified tax deferred annuities accumulate tax deferred and when distributions are generated the gain in the contract is taxable as ordinary income tax at the effective tax bracket rate of the annuity owner . If the annuity is owned by an artificial entity and not a person the deferral aspect is forfeit and the gain is taxed annually .\n",
      "\n",
      "Q: What Is A Deferred Annuity Plan?\n",
      "A: A deferred Annuity means your Taxes are not payed until you start taking money out of the account , tax-deferral . All Annuities have this tax deferral so it does not matter what kind of Annuity you get . An annuity is a contract between you and an insurance company . The annuity will credit money to your account according to the method which comes with the Annuity . There is so much more you need to know about annuities before you get one so please follow up with your Broker or contact me if you do not have one .\n",
      "\n",
      "\n"
     ]
    }
   ],
   "source": [
    "\n",
    "querry_data= process_data(retrieved_lines_with_distances)\n",
    "print(querry_data)"
   ]
  },
  {
   "cell_type": "code",
   "execution_count": 14,
   "metadata": {},
   "outputs": [
    {
     "name": "stdout",
     "output_type": "stream",
     "text": [
      "\n",
      "Task: Your are a Insurance assistance, your job is based on a conversation of a costumer and a insurance expert, \n",
      "answer insurance-related questions accurately and provide some short explanation.\n",
      "Instructions:\n",
      "Read the context carefully.\n",
      "Consider key points, concepts, and details within the document.\n",
      "Generate questions that seek information or clarification about the document's content.\n",
      "Ensure that the questions are grammatically correct and understandable.\n",
      "Give the answer directly, do not repeat the question or add any unrelated text\n",
      "If the user talk to you casually, you can rely back\n",
      "If the question is blank, tell the user to type the question in.\n",
      "If the question is not related to the context or there is no answer in the context, tell the users the question is not related to insurance or there is no answer in your database\n",
      "Context:\n",
      "Q: What Are Tax Sheltered Annuities?\n",
      "A: Qualified annuities generally refer to tax deferred annuities is a qualified plan like ab ERISA -LRB- Employee Retirement Income Security Act of 1974 -LRB- qualified plan such as a 410 -LRB- k -RRB- . By inserting tax deferred annuities into a qualified plan contribution re-characterizes the basis as taxable during distributions , i.e. the entire annuity distributions are taxable as ordinary income .\n",
      "\n",
      "Q: What Are Tax Sheltered Annuities?\n",
      "A: An employer can establish a plan in which contributions are deducted from the employees reported income and the money is invested in an annuity . The money placed in the annuity and the interest that it earns are not subject to current income tax . The benefits , when withdrawn are taxable as ordinary income . The best known Tax Sheltered Annuity is allowed under section 403 -LRB- b -RRB- of the Internal Revenue Code .\n",
      "\n",
      "Q: What Are Tax Sheltered Annuities?\n",
      "A: Tax sheltered annuities -LRB- TSA 's -RRB- are a type of retirement plan that allows employees of eligible public educational organizations or tax exempt organizations to contribute part of their pre-taxed salary to the plan with tax deferred growth . Employers are also allowed to contribute to a tax sheltered annuity for the employee . Authorized by IRS Section 403 -LRB- b -RRB- , TSA 's are also called 403 -LRB- b -RRB- plans .\n",
      "\n",
      "Q: What Exactly Are Annuities?\n",
      "A: Annuities is an excellent vehicle for savings . You can `` dollar cost `` average into a Tax Shelter Annuity which is a retirement planning instrument for employees with 501C organizations or if you have monies in Certificate of Deposit and it is fully taxable you can switch the dollars into an annuity and stop the taxation until you start taking the money out which can be delayed until 70 1/2 . An annuity is a great way to assure that you will never outlive your income as you take monthly payments from the value of the annuity . There are `` fixed annuities '' , `` indexed annuities-which are linked to an index , or you can even have a `` variable annuity that is tied directly to the performance of the stock market . If you work for a 501C organization and do have a tax shelter annuity you need to find a good financial planner .\n",
      "\n",
      "Q: What Does It Mean To Have Money In A Tax Deferred Annuity?\n",
      "A: That is a great question ! A tax deferred annuity is a great way to helpfund a retirement plan . In this type of vehicle , the money that you put into the annuity grows steadily . The interest that it earns stays in the annuity , and is n't counted yearly as income , so is n't taxable . Once the point comes when you start taking payments from it however , that earned interest becomes taxable , and is counted as income . Everything in the annuity over the amount that you started with is considered taxable income and you will count the interest on your taxes each year that you receive payments . The idea behind this strategy is that once you 've retired , you 've dropped in your yearly earnings , and thus into a lower tax bracket , and yet again saved money . If you would like more detail on this financial tool , please contact me , okay ? Thanks for asking !\n",
      "\n",
      "Q: What Are Tax Annuities?\n",
      "A: Non-qualified tax deferred annuities accumulate tax deferred and when distributions are generated the gain in the contract is taxable as ordinary income tax at the effective tax bracket rate of the annuity owner . If the annuity is owned by an artificial entity and not a person the deferral aspect is forfeit and the gain is taxed annually .\n",
      "\n",
      "Q: What Is A Deferred Annuity Plan?\n",
      "A: A deferred Annuity means your Taxes are not payed until you start taking money out of the account , tax-deferral . All Annuities have this tax deferral so it does not matter what kind of Annuity you get . An annuity is a contract between you and an insurance company . The annuity will credit money to your account according to the method which comes with the Annuity . There is so much more you need to know about annuities before you get one so please follow up with your Broker or contact me if you do not have one .\n",
      "\n",
      "\n",
      "\n",
      "Question:\n",
      "What Are Tax Sheltered Annuities?\n",
      "\n",
      "\n",
      "CPU times: total: 0 ns\n",
      "Wall time: 0 ns\n"
     ]
    }
   ],
   "source": [
    "%%time\n",
    "testing_question=\"What Are Tax Sheltered Annuities?\"\n",
    "prompt=create_prompt(querry_data,testing_question)\n",
    "print(prompt)"
   ]
  },
  {
   "cell_type": "code",
   "execution_count": 15,
   "metadata": {},
   "outputs": [
    {
     "name": "stdout",
     "output_type": "stream",
     "text": [
      "CPU times: total: 0 ns\n",
      "Wall time: 4.11 s\n"
     ]
    }
   ],
   "source": [
    "%%time\n",
    "LLM_model = genai.GenerativeModel('gemini-pro')\n",
    "response = LLM_model.generate_content(prompt)"
   ]
  },
  {
   "cell_type": "code",
   "execution_count": 16,
   "metadata": {},
   "outputs": [
    {
     "name": "stdout",
     "output_type": "stream",
     "text": [
      "Tax sheltered annuities -LRB- TSA 's -RRB- are a type of retirement plan that allows employees of eligible public educational organizations or tax exempt organizations to contribute part of their pre-taxed salary to the plan with tax deferred growth . Employers are also allowed to contribute to a tax sheltered annuity for the employee . Authorized by IRS Section 403 -LRB- b -RRB- , TSA 's are also called 403 -LRB- b -RRB- plans .\n"
     ]
    }
   ],
   "source": [
    "print( response.text.replace(\"JSON\", \"\").replace(\"```\",\"\"))"
   ]
  }
 ],
 "metadata": {
  "kernelspec": {
   "display_name": "Python 3",
   "language": "python",
   "name": "python3"
  },
  "language_info": {
   "codemirror_mode": {
    "name": "ipython",
    "version": 3
   },
   "file_extension": ".py",
   "mimetype": "text/x-python",
   "name": "python",
   "nbconvert_exporter": "python",
   "pygments_lexer": "ipython3",
   "version": "3.12.2"
  }
 },
 "nbformat": 4,
 "nbformat_minor": 2
}
