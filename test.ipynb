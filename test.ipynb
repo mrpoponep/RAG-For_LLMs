{
 "cells": [
  {
   "cell_type": "code",
   "execution_count": 1,
   "metadata": {},
   "outputs": [],
   "source": [
    "from pymilvus import connections, Collection, utility\n",
    "from pymilvus import utility\n",
    "import google.generativeai as genai\n",
    "from local_settings import API_KEY,uri,token\n",
    "from pymilvus import MilvusClient\n",
    "from helper_func import create_prompt, process_data\n",
    "\n",
    "connections.connect(uri=uri,token=token)\n",
    "milvus_client = MilvusClient(uri=uri,token=token)\n",
    "\n",
    "collection_name = \"my_rag_collection2\""
   ]
  },
  {
   "cell_type": "code",
   "execution_count": 2,
   "metadata": {},
   "outputs": [
    {
     "data": {
      "text/plain": [
       "10663"
      ]
     },
     "execution_count": 2,
     "metadata": {},
     "output_type": "execute_result"
    }
   ],
   "source": [
    "\n",
    "collection = Collection(collection_name)\n",
    "collection.num_entities "
   ]
  },
  {
   "cell_type": "code",
   "execution_count": 3,
   "metadata": {},
   "outputs": [
    {
     "data": {
      "text/plain": [
       "['my_rag_collection2']"
      ]
     },
     "execution_count": 3,
     "metadata": {},
     "output_type": "execute_result"
    }
   ],
   "source": [
    "utility.list_collections()"
   ]
  },
  {
   "cell_type": "code",
   "execution_count": 4,
   "metadata": {},
   "outputs": [
    {
     "name": "stdout",
     "output_type": "stream",
     "text": [
      "[{'count(*)': 10663}]\n"
     ]
    }
   ],
   "source": [
    "res = collection.query(expr=\"\", output_fields=[\"count(*)\"])\n",
    "print(res)"
   ]
  },
  {
   "cell_type": "code",
   "execution_count": 5,
   "metadata": {},
   "outputs": [],
   "source": [
    "embedding_model = 'models/text-embedding-004'\n",
    "genai.configure(api_key=API_KEY)\n",
    "def embed_fn(title, text):\n",
    "  return genai.embed_content(model=embedding_model,\n",
    "                             content=text,\n",
    "                             task_type=\"retrieval_document\",\n",
    "                             title=title)[\"embedding\"]"
   ]
  },
  {
   "cell_type": "code",
   "execution_count": 6,
   "metadata": {},
   "outputs": [],
   "source": [
    "question = \"Who Is A Key Employee In 401K?\"\n",
    "\n",
    "search_res = milvus_client.search(\n",
    "    collection_name=collection_name,\n",
    "    data=[\n",
    "        embed_fn(question,question)\n",
    "    ],  # Use the `emb_text` function to convert the question to an embedding vector\n",
    "    limit=7,  # Return top 3 results\n",
    "    search_params={\"metric_type\": \"COSINE\",  \"params\": {\"level\": 2}},  # Inner product distance\n",
    "    output_fields=[\"text\"],  # Return the text field\n",
    ")"
   ]
  },
  {
   "cell_type": "code",
   "execution_count": 7,
   "metadata": {},
   "outputs": [
    {
     "data": {
      "text/plain": [
       "[(['Who Is A Key Employee In 401K? ',\n",
       "   'An employer can establish a defined contribution retirement plan in accordance with Internal Revenue Code 401 -LRB- k. -RRB- The employer is responsible for the plan documents including definitions . While not required there may be some mention of key employees . If your plan has provisions like this , they would be in the plan document which is available from your employer . '],\n",
       "  0.8981134295463562),\n",
       " (['What Kind Of Retirement Plan Is A 401K? ',\n",
       "   'The Internal Revenue Code -LRB- IRC -RRB- allows employers to establish defined contribution pension plans under section 401 -LRB- k -RRB- in these plans the assets are segregated into individual employee accounts . Often the employer will offer a range of investment options to the participant . The results of the account are dependent upon the investments selected . Some employers contribute to the plans , some do not . '],\n",
       "  0.722854733467102),\n",
       " (['Who Governs 401K Plans? ',\n",
       "   'A defined contribution pension plan established by an employer under section 401 -LRB- k -RRB- of the Internal Revenue Code is what is popular called a , 401 -LRB- k -RRB- The program itself is designed for the employer . Administration of the plan may be handled directly by the employer or by a third-party administrator . The fiduciary requirements are with the employer ; however , these may be contracted to another party as well . '],\n",
       "  0.7201116681098938),\n",
       " (['Can Part Time Employees Get 401K? ',\n",
       "   'The Internal Revenue Code -LRB- IRC -RRB- section 401 -LRB- k -RRB- allows companies to establish plans for their employees . The code governs the taxation of the plan . The actual administration of the plan is left to the employer . An employer sets the requirements for participation . If you are an employee you can check with your plan administrator to determine if you are eligible . '],\n",
       "  0.7200148105621338),\n",
       " (['What Kind Of Retirement Plan Is A 401K? ',\n",
       "   \"What kind of retirement plan is a 401k ? It is a defined contribution retirement plan . Created in the early 1980 's as a supplement to traditional defined benefit retirement plans , 401k plans quickly went from supplemental to primary retirement plans in the USA . The performance good or bad in a 401k is almost entirely the responsibility of the employee . 401k plans represent a major shift in responsibility for plan outcomes to employees . \"],\n",
       "  0.7132778763771057),\n",
       " (['Can Part Time Employees Get 401K? ',\n",
       "   \"Can a part time employee qualify for a 401k ? Going to depend entirely on the employer as the IRS spells out the guidelines as to what an employer ca n't do , they leave a lot of room for an employer to decide what they can do . That said , it would be an exceptional employer who would offer 401k benefits to a part time employee as there is a cost per head to the employer for offering a 401k . \"],\n",
       "  0.7130509614944458),\n",
       " (['How Exactly Does Key Person Life Insurance Work? ',\n",
       "   \"Most businesses have key employees who are impact players in the company . The company depends on their performance and they 're vital to the future of the business . Placing key person life insurance on them can protect the business from the death of a key employee and provide cash to recruit and train a new employee . \"],\n",
       "  0.7049387097358704)]"
      ]
     },
     "execution_count": 7,
     "metadata": {},
     "output_type": "execute_result"
    }
   ],
   "source": [
    "retrieved_lines_with_distances = [\n",
    "    (res[\"entity\"][\"text\"], res[\"distance\"]) for res in search_res[0]\n",
    "]\n",
    "retrieved_lines_with_distances"
   ]
  },
  {
   "cell_type": "code",
   "execution_count": 8,
   "metadata": {},
   "outputs": [
    {
     "name": "stdout",
     "output_type": "stream",
     "text": [
      "Q: Who Is A Key Employee In 401K?\n",
      "A: An employer can establish a defined contribution retirement plan in accordance with Internal Revenue Code 401 -LRB- k. -RRB- The employer is responsible for the plan documents including definitions . While not required there may be some mention of key employees . If your plan has provisions like this , they would be in the plan document which is available from your employer .\n",
      "\n",
      "Q: What Kind Of Retirement Plan Is A 401K?\n",
      "A: The Internal Revenue Code -LRB- IRC -RRB- allows employers to establish defined contribution pension plans under section 401 -LRB- k -RRB- in these plans the assets are segregated into individual employee accounts . Often the employer will offer a range of investment options to the participant . The results of the account are dependent upon the investments selected . Some employers contribute to the plans , some do not .\n",
      "\n",
      "Q: Who Governs 401K Plans?\n",
      "A: A defined contribution pension plan established by an employer under section 401 -LRB- k -RRB- of the Internal Revenue Code is what is popular called a , 401 -LRB- k -RRB- The program itself is designed for the employer . Administration of the plan may be handled directly by the employer or by a third-party administrator . The fiduciary requirements are with the employer ; however , these may be contracted to another party as well .\n",
      "\n",
      "Q: Can Part Time Employees Get 401K?\n",
      "A: The Internal Revenue Code -LRB- IRC -RRB- section 401 -LRB- k -RRB- allows companies to establish plans for their employees . The code governs the taxation of the plan . The actual administration of the plan is left to the employer . An employer sets the requirements for participation . If you are an employee you can check with your plan administrator to determine if you are eligible .\n",
      "\n",
      "Q: What Kind Of Retirement Plan Is A 401K?\n",
      "A: What kind of retirement plan is a 401k ? It is a defined contribution retirement plan . Created in the early 1980 's as a supplement to traditional defined benefit retirement plans , 401k plans quickly went from supplemental to primary retirement plans in the USA . The performance good or bad in a 401k is almost entirely the responsibility of the employee . 401k plans represent a major shift in responsibility for plan outcomes to employees .\n",
      "\n",
      "Q: Can Part Time Employees Get 401K?\n",
      "A: Can a part time employee qualify for a 401k ? Going to depend entirely on the employer as the IRS spells out the guidelines as to what an employer ca n't do , they leave a lot of room for an employer to decide what they can do . That said , it would be an exceptional employer who would offer 401k benefits to a part time employee as there is a cost per head to the employer for offering a 401k .\n",
      "\n",
      "Q: How Exactly Does Key Person Life Insurance Work?\n",
      "A: Most businesses have key employees who are impact players in the company . The company depends on their performance and they 're vital to the future of the business . Placing key person life insurance on them can protect the business from the death of a key employee and provide cash to recruit and train a new employee .\n",
      "\n",
      "\n"
     ]
    }
   ],
   "source": [
    "querry_data= process_data(retrieved_lines_with_distances)\n",
    "print(querry_data)"
   ]
  },
  {
   "cell_type": "code",
   "execution_count": 21,
   "metadata": {},
   "outputs": [
    {
     "name": "stdout",
     "output_type": "stream",
     "text": [
      "\n",
      "Task:Your are a Insurance assistance, your job is based on a conversation of a costumer and a insurance expert, \n",
      "answer insurance-related questions accurately and provide some short explanation.\n",
      "Instructions:\n",
      "Read the context carefully.\n",
      "Consider key points, concepts, and details within the document.\n",
      "Generate questions that seek information or clarification about the document's content.\n",
      "Ensure that the questions are grammatically correct and understandable.\n",
      "Give the answer directly, do not repeat the question or add any unrelated text\n",
      "If user talk to you casually, reply normally\n",
      "If the question is not related to the context or there is no answer in the context, tell the users the question is not related to insurance or there is no answer in your database\n",
      "Context:\n",
      "Q: Who Is A Key Employee In 401K?\n",
      "A: An employer can establish a defined contribution retirement plan in accordance with Internal Revenue Code 401 -LRB- k. -RRB- The employer is responsible for the plan documents including definitions . While not required there may be some mention of key employees . If your plan has provisions like this , they would be in the plan document which is available from your employer .\n",
      "\n",
      "Q: What Kind Of Retirement Plan Is A 401K?\n",
      "A: The Internal Revenue Code -LRB- IRC -RRB- allows employers to establish defined contribution pension plans under section 401 -LRB- k -RRB- in these plans the assets are segregated into individual employee accounts . Often the employer will offer a range of investment options to the participant . The results of the account are dependent upon the investments selected . Some employers contribute to the plans , some do not .\n",
      "\n",
      "Q: Who Governs 401K Plans?\n",
      "A: A defined contribution pension plan established by an employer under section 401 -LRB- k -RRB- of the Internal Revenue Code is what is popular called a , 401 -LRB- k -RRB- The program itself is designed for the employer . Administration of the plan may be handled directly by the employer or by a third-party administrator . The fiduciary requirements are with the employer ; however , these may be contracted to another party as well .\n",
      "\n",
      "Q: Can Part Time Employees Get 401K?\n",
      "A: The Internal Revenue Code -LRB- IRC -RRB- section 401 -LRB- k -RRB- allows companies to establish plans for their employees . The code governs the taxation of the plan . The actual administration of the plan is left to the employer . An employer sets the requirements for participation . If you are an employee you can check with your plan administrator to determine if you are eligible .\n",
      "\n",
      "Q: What Kind Of Retirement Plan Is A 401K?\n",
      "A: What kind of retirement plan is a 401k ? It is a defined contribution retirement plan . Created in the early 1980 's as a supplement to traditional defined benefit retirement plans , 401k plans quickly went from supplemental to primary retirement plans in the USA . The performance good or bad in a 401k is almost entirely the responsibility of the employee . 401k plans represent a major shift in responsibility for plan outcomes to employees .\n",
      "\n",
      "Q: Can Part Time Employees Get 401K?\n",
      "A: Can a part time employee qualify for a 401k ? Going to depend entirely on the employer as the IRS spells out the guidelines as to what an employer ca n't do , they leave a lot of room for an employer to decide what they can do . That said , it would be an exceptional employer who would offer 401k benefits to a part time employee as there is a cost per head to the employer for offering a 401k .\n",
      "\n",
      "Q: How Exactly Does Key Person Life Insurance Work?\n",
      "A: Most businesses have key employees who are impact players in the company . The company depends on their performance and they 're vital to the future of the business . Placing key person life insurance on them can protect the business from the death of a key employee and provide cash to recruit and train a new employee .\n",
      "\n",
      "\n",
      "\n",
      "Question:\n",
      "What is so special about LLamba 2\n",
      "\n",
      "\n"
     ]
    }
   ],
   "source": [
    "testing_question=\"What is so special about LLamba 2\"\n",
    "prompt=create_prompt(querry_data,testing_question)\n",
    "print(prompt)"
   ]
  },
  {
   "cell_type": "code",
   "execution_count": 22,
   "metadata": {},
   "outputs": [],
   "source": [
    "LLM_model = genai.GenerativeModel('gemini-pro')\n",
    "response = LLM_model.generate_content(prompt)"
   ]
  },
  {
   "cell_type": "code",
   "execution_count": 23,
   "metadata": {},
   "outputs": [
    {
     "name": "stdout",
     "output_type": "stream",
     "text": [
      "The question is not related to insurance\n"
     ]
    }
   ],
   "source": [
    "print( response.text.replace(\"JSON\", \"\").replace(\"```\",\"\"))"
   ]
  }
 ],
 "metadata": {
  "kernelspec": {
   "display_name": "Python 3",
   "language": "python",
   "name": "python3"
  },
  "language_info": {
   "codemirror_mode": {
    "name": "ipython",
    "version": 3
   },
   "file_extension": ".py",
   "mimetype": "text/x-python",
   "name": "python",
   "nbconvert_exporter": "python",
   "pygments_lexer": "ipython3",
   "version": "3.12.2"
  }
 },
 "nbformat": 4,
 "nbformat_minor": 2
}
