{
 "cells": [
  {
   "cell_type": "code",
   "execution_count": 28,
   "metadata": {},
   "outputs": [],
   "source": [
    "from pymilvus import connections, Collection, utility\n",
    "from pymilvus import utility\n",
    "import google.generativeai as genai\n",
    "from local_settings import API_KEY,uri,token\n",
    "from pymilvus import MilvusClient\n",
    "from helper_func import create_prompt, process_data\n",
    "\n",
    "connections.connect(uri=uri,token=token)\n",
    "milvus_client = MilvusClient(uri=uri,token=token)\n",
    "\n",
    "collection_name = \"my_rag_collection2\""
   ]
  },
  {
   "cell_type": "code",
   "execution_count": 29,
   "metadata": {},
   "outputs": [
    {
     "data": {
      "text/plain": [
       "21326"
      ]
     },
     "execution_count": 29,
     "metadata": {},
     "output_type": "execute_result"
    }
   ],
   "source": [
    "\n",
    "collection = Collection(collection_name)\n",
    "collection.num_entities "
   ]
  },
  {
   "cell_type": "code",
   "execution_count": 30,
   "metadata": {},
   "outputs": [
    {
     "data": {
      "text/plain": [
       "['my_rag_collection2']"
      ]
     },
     "execution_count": 30,
     "metadata": {},
     "output_type": "execute_result"
    }
   ],
   "source": [
    "utility.list_collections()"
   ]
  },
  {
   "cell_type": "code",
   "execution_count": 31,
   "metadata": {},
   "outputs": [
    {
     "name": "stdout",
     "output_type": "stream",
     "text": [
      "[{'count(*)': 21326}]\n"
     ]
    }
   ],
   "source": [
    "res = collection.query(expr=\"\", output_fields=[\"count(*)\"])\n",
    "print(res)"
   ]
  },
  {
   "cell_type": "code",
   "execution_count": 32,
   "metadata": {},
   "outputs": [],
   "source": [
    "embedding_model = 'models/text-embedding-004'\n",
    "genai.configure(api_key=API_KEY)\n",
    "def embed_fn(title, text):\n",
    "  return genai.embed_content(model=embedding_model,\n",
    "                             content=text,\n",
    "                             task_type=\"retrieval_document\",\n",
    "                             title=title)[\"embedding\"]"
   ]
  },
  {
   "cell_type": "code",
   "execution_count": 33,
   "metadata": {},
   "outputs": [],
   "source": [
    "question = \"Can Home Insurance Companies Drop You? \"\n",
    "\n",
    "search_res = milvus_client.search(\n",
    "    collection_name=collection_name,\n",
    "    data=[\n",
    "        embed_fn(question,question)\n",
    "    ],  # Use the `emb_text` function to convert the question to an embedding vector\n",
    "    limit=7,  # Return top 3 results\n",
    "    search_params={\"metric_type\": \"COSINE\",  \"params\": {\"level\": 2}},  # Inner product distance\n",
    "    output_fields=[\"text\"],  # Return the text field\n",
    ")"
   ]
  },
  {
   "cell_type": "code",
   "execution_count": 34,
   "metadata": {},
   "outputs": [
    {
     "data": {
      "text/plain": [
       "[(['Can My Home Insurance Company Drop Me? ',\n",
       "   \"Yes it can but for very specific reasons that are filed and approved by your state 's Insurance Department . Just like a company offering new coverage provided that you and your property meet filed underwriting guidelines , if while your policy is in force , you or your property no longer meet those guidelines for reasons such as prior losses , foreclosure , property abandonment , failure to pay your premium or other approved reasons , your company can either cancel mid term or non renew . \"],\n",
       "  0.8964682817459106),\n",
       " (['Can A Home Insurance Company Drop You? ',\n",
       "   'An insurance carrier may decide to cancel or non-renew a client if the client no longer meets the carriers standard for providing coverage . A client could also be dropped or non-renewed by a carrier if the coverage provided was approved under false information or fraudulant acts . If you receive a letter of cancellation or non-renewal from your current carrier you should contact your local agent to either contest be dropped or non-renewed or they may be able to help you secure coverage else where . '],\n",
       "  0.8911378979682922),\n",
       " (['Can My Home Insurance Drop Me? ',\n",
       "   'An insurance carrier typicallyhas the right to cancel or non-renew a homeonwers insurance policy for a client , if that client is not following the parameters of the policy . Also if the policy holder has fraudulantly provided incorrect information when applying for the policy . Every carrier sets its own standards for its clients and if a clients falls outside those standards then they may chose to cancel or non-renew your policy normally with at least fifteen days notice . '],\n",
       "  0.8821563720703125),\n",
       " (['Can A Home Insurance Company Drop You? ',\n",
       "   'Any Home or Auto insurance company can drop you . Home insurance is not guaranteed renewable . The company has a right to drop you or raise your premium at each renewal . This can be done because of claims experience , deterioration and maintenance of your home , or in some cases a company will pull out of an area or state completely . This happened in Florida because of the frequency of hurricanes . '],\n",
       "  0.8806143999099731),\n",
       " (['Can A Home Insurance Company Drop You? ',\n",
       "   'A insurance company will look at any insured or potential insured and weigh the risk involved . After the riskassessmenta company can make an offer for insurance . Should the risk change significantly a company can chose to eitherincreasethe premium associated with the risk or chose to no longer carry the risk . Keep in mind when a insurance company is renewing you it is an offer of renewal . '],\n",
       "  0.8779544830322266),\n",
       " (['Can My Home Insurance Company Drop Me? ',\n",
       "   \"Unfortunately , the homeowners insurance company has the `` right '' non-renew your coverage each year they renew the policy . It depends on your specific state if they can drop you mid-policy or not . They normally ca n't drop you mid-policy unless they discover a material misrepresentation by you . They can drop you for non-payment , but for a claim they can only non-renew your policy . If you have additional questions please let me know . \"],\n",
       "  0.8750171661376953),\n",
       " (['Can A Homeowners Insurance Company Drop Your Coverage? ',\n",
       "   'An insurance carrier may decide to cancel or non-renew a client if the client no longer meets the carriers standard for providing coverage . A client could also be dropped or non-renewed by a carrier if the coverage provided was approved under false information or fraudulant acts . If you receive a letter of cancellation or non-renewal from your current carrier you should contact your local agent to either contest be dropped or non-renewed or they may be able to help you secure coverage else where . '],\n",
       "  0.8702965378761292)]"
      ]
     },
     "execution_count": 34,
     "metadata": {},
     "output_type": "execute_result"
    }
   ],
   "source": [
    "retrieved_lines_with_distances = [\n",
    "    (res[\"entity\"][\"text\"], res[\"distance\"]) for res in search_res[0]\n",
    "]\n",
    "retrieved_lines_with_distances"
   ]
  },
  {
   "cell_type": "code",
   "execution_count": 35,
   "metadata": {},
   "outputs": [
    {
     "name": "stdout",
     "output_type": "stream",
     "text": [
      "Q: Can My Home Insurance Company Drop Me?\n",
      "\n",
      "A: Yes it can but for very specific reasons that are filed and approved by your state 's Insurance Department . Just like a company offering new coverage provided that you and your property meet filed underwriting guidelines , if while your policy is in force , you or your property no longer meet those guidelines for reasons such as prior losses , foreclosure , property abandonment , failure to pay your premium or other approved reasons , your company can either cancel mid term or non renew .\n",
      "\n",
      "Q: Can A Home Insurance Company Drop You?\n",
      "\n",
      "A: An insurance carrier may decide to cancel or non-renew a client if the client no longer meets the carriers standard for providing coverage . A client could also be dropped or non-renewed by a carrier if the coverage provided was approved under false information or fraudulant acts . If you receive a letter of cancellation or non-renewal from your current carrier you should contact your local agent to either contest be dropped or non-renewed or they may be able to help you secure coverage else where .\n",
      "\n",
      "Q: Can My Home Insurance Drop Me?\n",
      "\n",
      "A: An insurance carrier typicallyhas the right to cancel or non-renew a homeonwers insurance policy for a client , if that client is not following the parameters of the policy . Also if the policy holder has fraudulantly provided incorrect information when applying for the policy . Every carrier sets its own standards for its clients and if a clients falls outside those standards then they may chose to cancel or non-renew your policy normally with at least fifteen days notice .\n",
      "\n",
      "Q: Can A Home Insurance Company Drop You?\n",
      "\n",
      "A: Any Home or Auto insurance company can drop you . Home insurance is not guaranteed renewable . The company has a right to drop you or raise your premium at each renewal . This can be done because of claims experience , deterioration and maintenance of your home , or in some cases a company will pull out of an area or state completely . This happened in Florida because of the frequency of hurricanes .\n",
      "\n",
      "Q: Can A Home Insurance Company Drop You?\n",
      "\n",
      "A: A insurance company will look at any insured or potential insured and weigh the risk involved . After the riskassessmenta company can make an offer for insurance . Should the risk change significantly a company can chose to eitherincreasethe premium associated with the risk or chose to no longer carry the risk . Keep in mind when a insurance company is renewing you it is an offer of renewal .\n",
      "\n",
      "Q: Can My Home Insurance Company Drop Me?\n",
      "\n",
      "A: Unfortunately , the homeowners insurance company has the `` right '' non-renew your coverage each year they renew the policy . It depends on your specific state if they can drop you mid-policy or not . They normally ca n't drop you mid-policy unless they discover a material misrepresentation by you . They can drop you for non-payment , but for a claim they can only non-renew your policy . If you have additional questions please let me know .\n",
      "\n",
      "Q: Can A Homeowners Insurance Company Drop Your Coverage?\n",
      "\n",
      "A: An insurance carrier may decide to cancel or non-renew a client if the client no longer meets the carriers standard for providing coverage . A client could also be dropped or non-renewed by a carrier if the coverage provided was approved under false information or fraudulant acts . If you receive a letter of cancellation or non-renewal from your current carrier you should contact your local agent to either contest be dropped or non-renewed or they may be able to help you secure coverage else where .\n",
      "\n",
      "\n"
     ]
    }
   ],
   "source": [
    "\n",
    "querry_data= process_data(retrieved_lines_with_distances)\n",
    "print(querry_data)"
   ]
  },
  {
   "cell_type": "code",
   "execution_count": 36,
   "metadata": {},
   "outputs": [
    {
     "name": "stdout",
     "output_type": "stream",
     "text": [
      "\n",
      "Task: Your are a Insurance assistance, your job is based on a conversation of a costumer and a insurance expert, \n",
      "answer insurance-related questions accurately and provide detailed  explanation.\n",
      "Instructions:\n",
      "\n",
      "Read the context carefully.\n",
      "\n",
      "Consider key points, concepts, and details within the document.\n",
      "\n",
      "Generate questions that seek information or clarification about the document's content.\n",
      "\n",
      "Ensure that the questions are grammatically correct and understandable.\n",
      "\n",
      "Give the answer directly, do not repeat the question or add any unrelated text\n",
      "\n",
      "If the user talk to you casually, you can rely back\n",
      "\n",
      "If the question is blank, tell the user to type the question in.\n",
      "\n",
      "If the question is not related to the context or there is no answer in the context, tell the users the question is not related to insurance or there is no answer in your database\n",
      "\n",
      "Context:\n",
      "\n",
      "Q: Can My Home Insurance Company Drop Me?\n",
      "\n",
      "A: Yes it can but for very specific reasons that are filed and approved by your state 's Insurance Department . Just like a company offering new coverage provided that you and your property meet filed underwriting guidelines , if while your policy is in force , you or your property no longer meet those guidelines for reasons such as prior losses , foreclosure , property abandonment , failure to pay your premium or other approved reasons , your company can either cancel mid term or non renew .\n",
      "\n",
      "Q: Can A Home Insurance Company Drop You?\n",
      "\n",
      "A: An insurance carrier may decide to cancel or non-renew a client if the client no longer meets the carriers standard for providing coverage . A client could also be dropped or non-renewed by a carrier if the coverage provided was approved under false information or fraudulant acts . If you receive a letter of cancellation or non-renewal from your current carrier you should contact your local agent to either contest be dropped or non-renewed or they may be able to help you secure coverage else where .\n",
      "\n",
      "Q: Can My Home Insurance Drop Me?\n",
      "\n",
      "A: An insurance carrier typicallyhas the right to cancel or non-renew a homeonwers insurance policy for a client , if that client is not following the parameters of the policy . Also if the policy holder has fraudulantly provided incorrect information when applying for the policy . Every carrier sets its own standards for its clients and if a clients falls outside those standards then they may chose to cancel or non-renew your policy normally with at least fifteen days notice .\n",
      "\n",
      "Q: Can A Home Insurance Company Drop You?\n",
      "\n",
      "A: Any Home or Auto insurance company can drop you . Home insurance is not guaranteed renewable . The company has a right to drop you or raise your premium at each renewal . This can be done because of claims experience , deterioration and maintenance of your home , or in some cases a company will pull out of an area or state completely . This happened in Florida because of the frequency of hurricanes .\n",
      "\n",
      "Q: Can A Home Insurance Company Drop You?\n",
      "\n",
      "A: A insurance company will look at any insured or potential insured and weigh the risk involved . After the riskassessmenta company can make an offer for insurance . Should the risk change significantly a company can chose to eitherincreasethe premium associated with the risk or chose to no longer carry the risk . Keep in mind when a insurance company is renewing you it is an offer of renewal .\n",
      "\n",
      "Q: Can My Home Insurance Company Drop Me?\n",
      "\n",
      "A: Unfortunately , the homeowners insurance company has the `` right '' non-renew your coverage each year they renew the policy . It depends on your specific state if they can drop you mid-policy or not . They normally ca n't drop you mid-policy unless they discover a material misrepresentation by you . They can drop you for non-payment , but for a claim they can only non-renew your policy . If you have additional questions please let me know .\n",
      "\n",
      "Q: Can A Homeowners Insurance Company Drop Your Coverage?\n",
      "\n",
      "A: An insurance carrier may decide to cancel or non-renew a client if the client no longer meets the carriers standard for providing coverage . A client could also be dropped or non-renewed by a carrier if the coverage provided was approved under false information or fraudulant acts . If you receive a letter of cancellation or non-renewal from your current carrier you should contact your local agent to either contest be dropped or non-renewed or they may be able to help you secure coverage else where .\n",
      "\n",
      "\n",
      "\n",
      "Question:\n",
      "\n",
      "Can Home Insurance Companies Drop You? \n",
      "\n",
      "\n"
     ]
    }
   ],
   "source": [
    "prompt=create_prompt(querry_data,question)\n",
    "print(prompt)"
   ]
  },
  {
   "cell_type": "code",
   "execution_count": 37,
   "metadata": {},
   "outputs": [],
   "source": [
    "LLM_model = genai.GenerativeModel('gemini-pro')\n",
    "response = LLM_model.generate_content(prompt)"
   ]
  },
  {
   "cell_type": "code",
   "execution_count": 38,
   "metadata": {},
   "outputs": [
    {
     "name": "stdout",
     "output_type": "stream",
     "text": [
      "Yes, they can\n"
     ]
    }
   ],
   "source": [
    "print(response.text.replace(\"JSON\", \"\").replace(\"```\",\"\"))"
   ]
  }
 ],
 "metadata": {
  "kernelspec": {
   "display_name": "Python 3",
   "language": "python",
   "name": "python3"
  },
  "language_info": {
   "codemirror_mode": {
    "name": "ipython",
    "version": 3
   },
   "file_extension": ".py",
   "mimetype": "text/x-python",
   "name": "python",
   "nbconvert_exporter": "python",
   "pygments_lexer": "ipython3",
   "version": "3.12.2"
  }
 },
 "nbformat": 4,
 "nbformat_minor": 2
}
