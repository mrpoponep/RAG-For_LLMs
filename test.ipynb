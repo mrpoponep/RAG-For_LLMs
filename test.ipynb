{
 "cells": [
  {
   "cell_type": "code",
   "execution_count": 61,
   "metadata": {},
   "outputs": [],
   "source": [
    "from pymilvus import connections, Collection, utility\n",
    "from pymilvus import utility\n",
    "import google.generativeai as genai\n",
    "from local_settings import API_KEY\n",
    "from pymilvus import MilvusClient\n",
    "from helper_func import create_prompt, process_data\n",
    "\n",
    "connections.connect(host='localhost', port='19530')\n",
    "milvus_client = MilvusClient(\"http://localhost:19530\")\n",
    "collection_name = \"my_rag_collection\""
   ]
  },
  {
   "cell_type": "code",
   "execution_count": 62,
   "metadata": {},
   "outputs": [
    {
     "data": {
      "text/plain": [
       "10662"
      ]
     },
     "execution_count": 62,
     "metadata": {},
     "output_type": "execute_result"
    }
   ],
   "source": [
    "collection_name=\"my_rag_collection\"\n",
    "collection = Collection(collection_name)\n",
    "collection.num_entities "
   ]
  },
  {
   "cell_type": "code",
   "execution_count": 17,
   "metadata": {},
   "outputs": [
    {
     "data": {
      "text/plain": [
       "['question_answer', 'my_rag_collection']"
      ]
     },
     "execution_count": 17,
     "metadata": {},
     "output_type": "execute_result"
    }
   ],
   "source": [
    "utility.list_collections()"
   ]
  },
  {
   "cell_type": "code",
   "execution_count": 18,
   "metadata": {},
   "outputs": [
    {
     "name": "stdout",
     "output_type": "stream",
     "text": [
      "[{'count(*)': 10662}]\n"
     ]
    }
   ],
   "source": [
    "res = collection.query(expr=\"\", output_fields=[\"count(*)\"])\n",
    "print(res)"
   ]
  },
  {
   "cell_type": "code",
   "execution_count": 19,
   "metadata": {},
   "outputs": [],
   "source": [
    "embedding_model = 'models/text-embedding-004'\n",
    "genai.configure(api_key=API_KEY)\n",
    "def embed_fn(title, text):\n",
    "  return genai.embed_content(model=embedding_model,\n",
    "                             content=text,\n",
    "                             task_type=\"retrieval_document\",\n",
    "                             title=title)[\"embedding\"]"
   ]
  },
  {
   "cell_type": "code",
   "execution_count": 50,
   "metadata": {},
   "outputs": [],
   "source": [
    "question = \"How Much Should I spend on Motorcycle Insurance ? \"\n",
    "\n",
    "search_res = milvus_client.search(\n",
    "    collection_name=collection_name,\n",
    "    data=[\n",
    "        embed_fn(question,question)\n",
    "    ],  # Use the `emb_text` function to convert the question to an embedding vector\n",
    "    limit=7,  # Return top 3 results\n",
    "    search_params={\"metric_type\": \"IP\", \"params\": {}},  # Inner product distance\n",
    "    output_fields=[\"text\"],  # Return the text field\n",
    ")"
   ]
  },
  {
   "cell_type": "code",
   "execution_count": 51,
   "metadata": {},
   "outputs": [
    {
     "data": {
      "text/plain": [
       "[(['How Much Does Motorcycle Insurance Cost? ',\n",
       "   \"Just like car insurance , there are many factors that are used to develop a premium for Motorcycle Insurance . Your age , driving record , credit history and location as well as the year make and model of the bike are all such factors . In addition , if you have other business with the insurance company like your homeowners and car insurance , multi policy discounts might apply . I am in Connecticut and have all my insurance with the same company and pay $ 220.00 for the year for full coverage and high liability limits on my '08 Suzuki Boulevard C50 . \"],\n",
       "  0.8232659697532654),\n",
       " (['Does Motorcycle Insurance Cost More Than Car Insurance? ',\n",
       "   'This would be the most general answer possible but over all motorcycle is less then auto . But there are many many factors that can cause rates to go either way as it pertains to usage and vehicle itself . Simple example is on the motorcycle policy you are insuring a 2012 25k in value Harley and the auto policy a 2000 Toyota Corolla . Driving experience and how the vehicles are used are determining factors . Really this is more comparing an apple to an orange . '],\n",
       "  0.8147279024124146),\n",
       " (['Is Motorcycle Insurance Different Than Car Insurance? ',\n",
       "   'The two types of insurance are set up similarly . In that both can provide Physical Damage coverage for your vehicle including Collision and Comprehensive as well as Liability protection . Most bike policies are set up on an annual basis , whereas car policies may be either annual or semi annual issue . Generally speaking Motorcycle policies are somewhat less expensive than personal auto policies . There may also be some variances in additional or built in coverage , for example , a bike policy may include coverage for your gear . '],\n",
       "  0.798157811164856),\n",
       " (['How Can I Make My Motorcycle Insurance Cheaper? ',\n",
       "   \"One very good way to earn a credit on your Motorcycle insurance while also increasing your riding techniques is to enroll in a riders ' class . Many states have classes that are designed not only for the beginning rider but for those of us who are more experienced as well . Another way is to talk to your Insurance Professional to be sure you are taking advantage of all your company 's available discounts . Be sure to talk about bundling your Home and ca insurance with the same company that insures your bike . \"],\n",
       "  0.7788022756576538),\n",
       " (['How Much To Pay For Auto Insurance? ',\n",
       "   \"Pay as much as it takes to get the coverage you need to protect you and your family adequately . Once you determine how much coverage you need , shop around with several different insurance agents and make sure to include an independent insurance agent that is n't tied to just one company . Your rate will be based on many factors including : coverage limits , deductible levels , additional benefits , driving records , number and types of vehicles , age of drivers , and location . Shopping around will ensure you have the lowest rate . \"],\n",
       "  0.7586603164672852),\n",
       " (['Does Car Insurance Affect Motorcycle Insurance? ',\n",
       "   'It may . Typically it would be by providing a discount for both policies if they are with the same carrier . Other than that I personally can not think of any other way that your car insurance would affect your motorcycle insurance . If your policies are not with the same carrier now , I would suggest talking with your local agent to find out if you could possibly get both of your policies under the same carrier . '],\n",
       "  0.7549662590026855),\n",
       " (['Does Riding A Motorcycle Affect Life Insurance? ',\n",
       "   'Riding a motorcycle could affect your life insurance . When underwriting a policy and determining your rate , the type of lifestyle you live andhazardoussports and hobbies could impact pricing . However , once the policy is approved and issued , and you haveacceptedthe terms , driving amotorcycle should not in any way impact the policy you purchased . '],\n",
       "  0.7528204321861267)]"
      ]
     },
     "execution_count": 51,
     "metadata": {},
     "output_type": "execute_result"
    }
   ],
   "source": [
    "retrieved_lines_with_distances = [\n",
    "    (res[\"entity\"][\"text\"], res[\"distance\"]) for res in search_res[0]\n",
    "]\n",
    "retrieved_lines_with_distances"
   ]
  },
  {
   "cell_type": "code",
   "execution_count": 52,
   "metadata": {},
   "outputs": [
    {
     "name": "stdout",
     "output_type": "stream",
     "text": [
      "How Much Does Motorcycle Insurance Cost?\n",
      "Just like car insurance , there are many factors that are used to develop a premium for Motorcycle Insurance . Your age , driving record , credit history and location as well as the year make and model of the bike are all such factors . In addition , if you have other business with the insurance company like your homeowners and car insurance , multi policy discounts might apply . I am in Connecticut and have all my insurance with the same company and pay $ 220.00 for the year for full coverage and high liability limits on my '08 Suzuki Boulevard C50 .\n",
      "\n",
      "Does Motorcycle Insurance Cost More Than Car Insurance?\n",
      "This would be the most general answer possible but over all motorcycle is less then auto . But there are many many factors that can cause rates to go either way as it pertains to usage and vehicle itself . Simple example is on the motorcycle policy you are insuring a 2012 25k in value Harley and the auto policy a 2000 Toyota Corolla . Driving experience and how the vehicles are used are determining factors . Really this is more comparing an apple to an orange .\n",
      "\n",
      "Is Motorcycle Insurance Different Than Car Insurance?\n",
      "The two types of insurance are set up similarly . In that both can provide Physical Damage coverage for your vehicle including Collision and Comprehensive as well as Liability protection . Most bike policies are set up on an annual basis , whereas car policies may be either annual or semi annual issue . Generally speaking Motorcycle policies are somewhat less expensive than personal auto policies . There may also be some variances in additional or built in coverage , for example , a bike policy may include coverage for your gear .\n",
      "\n",
      "How Can I Make My Motorcycle Insurance Cheaper?\n",
      "One very good way to earn a credit on your Motorcycle insurance while also increasing your riding techniques is to enroll in a riders ' class . Many states have classes that are designed not only for the beginning rider but for those of us who are more experienced as well . Another way is to talk to your Insurance Professional to be sure you are taking advantage of all your company 's available discounts . Be sure to talk about bundling your Home and ca insurance with the same company that insures your bike .\n",
      "\n",
      "How Much To Pay For Auto Insurance?\n",
      "Pay as much as it takes to get the coverage you need to protect you and your family adequately . Once you determine how much coverage you need , shop around with several different insurance agents and make sure to include an independent insurance agent that is n't tied to just one company . Your rate will be based on many factors including : coverage limits , deductible levels , additional benefits , driving records , number and types of vehicles , age of drivers , and location . Shopping around will ensure you have the lowest rate .\n",
      "\n",
      "Does Car Insurance Affect Motorcycle Insurance?\n",
      "It may . Typically it would be by providing a discount for both policies if they are with the same carrier . Other than that I personally can not think of any other way that your car insurance would affect your motorcycle insurance . If your policies are not with the same carrier now , I would suggest talking with your local agent to find out if you could possibly get both of your policies under the same carrier .\n",
      "\n",
      "Does Riding A Motorcycle Affect Life Insurance?\n",
      "Riding a motorcycle could affect your life insurance . When underwriting a policy and determining your rate , the type of lifestyle you live andhazardoussports and hobbies could impact pricing . However , once the policy is approved and issued , and you haveacceptedthe terms , driving amotorcycle should not in any way impact the policy you purchased .\n",
      "\n",
      "\n"
     ]
    }
   ],
   "source": [
    "querry_data= process_data(retrieved_lines_with_distances)\n",
    "print(querry_data)"
   ]
  },
  {
   "cell_type": "code",
   "execution_count": 53,
   "metadata": {},
   "outputs": [
    {
     "name": "stdout",
     "output_type": "stream",
     "text": [
      "\n",
      "Task: Answer insurance-related questions accurately and provide some short explanation\n",
      "Instructions:\n",
      "Read the document carefully.\n",
      "Consider key points, concepts, and details within the document.\n",
      "Generate questions that seek information or clarification about the document's content.\n",
      "Ensure that the questions are grammatically correct and understandable.\n",
      "If the answer is not provided in the context, return None.\n",
      "Context:\n",
      "How Much Does Motorcycle Insurance Cost?\n",
      "Just like car insurance , there are many factors that are used to develop a premium for Motorcycle Insurance . Your age , driving record , credit history and location as well as the year make and model of the bike are all such factors . In addition , if you have other business with the insurance company like your homeowners and car insurance , multi policy discounts might apply . I am in Connecticut and have all my insurance with the same company and pay $ 220.00 for the year for full coverage and high liability limits on my '08 Suzuki Boulevard C50 .\n",
      "\n",
      "Does Motorcycle Insurance Cost More Than Car Insurance?\n",
      "This would be the most general answer possible but over all motorcycle is less then auto . But there are many many factors that can cause rates to go either way as it pertains to usage and vehicle itself . Simple example is on the motorcycle policy you are insuring a 2012 25k in value Harley and the auto policy a 2000 Toyota Corolla . Driving experience and how the vehicles are used are determining factors . Really this is more comparing an apple to an orange .\n",
      "\n",
      "Is Motorcycle Insurance Different Than Car Insurance?\n",
      "The two types of insurance are set up similarly . In that both can provide Physical Damage coverage for your vehicle including Collision and Comprehensive as well as Liability protection . Most bike policies are set up on an annual basis , whereas car policies may be either annual or semi annual issue . Generally speaking Motorcycle policies are somewhat less expensive than personal auto policies . There may also be some variances in additional or built in coverage , for example , a bike policy may include coverage for your gear .\n",
      "\n",
      "How Can I Make My Motorcycle Insurance Cheaper?\n",
      "One very good way to earn a credit on your Motorcycle insurance while also increasing your riding techniques is to enroll in a riders ' class . Many states have classes that are designed not only for the beginning rider but for those of us who are more experienced as well . Another way is to talk to your Insurance Professional to be sure you are taking advantage of all your company 's available discounts . Be sure to talk about bundling your Home and ca insurance with the same company that insures your bike .\n",
      "\n",
      "How Much To Pay For Auto Insurance?\n",
      "Pay as much as it takes to get the coverage you need to protect you and your family adequately . Once you determine how much coverage you need , shop around with several different insurance agents and make sure to include an independent insurance agent that is n't tied to just one company . Your rate will be based on many factors including : coverage limits , deductible levels , additional benefits , driving records , number and types of vehicles , age of drivers , and location . Shopping around will ensure you have the lowest rate .\n",
      "\n",
      "Does Car Insurance Affect Motorcycle Insurance?\n",
      "It may . Typically it would be by providing a discount for both policies if they are with the same carrier . Other than that I personally can not think of any other way that your car insurance would affect your motorcycle insurance . If your policies are not with the same carrier now , I would suggest talking with your local agent to find out if you could possibly get both of your policies under the same carrier .\n",
      "\n",
      "Does Riding A Motorcycle Affect Life Insurance?\n",
      "Riding a motorcycle could affect your life insurance . When underwriting a policy and determining your rate , the type of lifestyle you live andhazardoussports and hobbies could impact pricing . However , once the policy is approved and issued , and you haveacceptedthe terms , driving amotorcycle should not in any way impact the policy you purchased .\n",
      "\n",
      "\n",
      "\n",
      "Question:\n",
      "How Much Should I spend on Motorcycle Insurance ? \n",
      "\n",
      "\n"
     ]
    }
   ],
   "source": [
    "testing_question=\"\"\n",
    "prompt=create_prompt(querry_data,question)\n",
    "print(prompt)"
   ]
  },
  {
   "cell_type": "code",
   "execution_count": 54,
   "metadata": {},
   "outputs": [],
   "source": [
    "LLM_model = genai.GenerativeModel('gemini-pro')\n",
    "response = LLM_model.generate_content(prompt)"
   ]
  },
  {
   "cell_type": "code",
   "execution_count": 55,
   "metadata": {},
   "outputs": [
    {
     "name": "stdout",
     "output_type": "stream",
     "text": [
      "The cost of motorcycle insurance varies depending on factors such as age, driving record, credit history, location, and the year, make, and model of the motorcycle. It is recommended to shop around with different insurance agents to compare rates and coverage options.\n"
     ]
    }
   ],
   "source": [
    "print( response.text.replace(\"JSON\", \"\").replace(\"```\",\"\"))"
   ]
  }
 ],
 "metadata": {
  "kernelspec": {
   "display_name": "Python 3",
   "language": "python",
   "name": "python3"
  },
  "language_info": {
   "codemirror_mode": {
    "name": "ipython",
    "version": 3
   },
   "file_extension": ".py",
   "mimetype": "text/x-python",
   "name": "python",
   "nbconvert_exporter": "python",
   "pygments_lexer": "ipython3",
   "version": "3.12.2"
  }
 },
 "nbformat": 4,
 "nbformat_minor": 2
}
