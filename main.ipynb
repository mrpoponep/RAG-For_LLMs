{
 "cells": [
  {
   "cell_type": "code",
   "execution_count": 1,
   "metadata": {},
   "outputs": [],
   "source": [
    "import textwrap\n",
    "import numpy as np\n",
    "import pandas as pd\n",
    "import json\n",
    "import google.generativeai as genai\n",
    "from local_settings import API_KEY,uri,token\n"
   ]
  },
  {
   "cell_type": "code",
   "execution_count": 2,
   "metadata": {},
   "outputs": [],
   "source": [
    "from local_settings import API_KEY\n",
    "\n",
    "genai.configure(api_key=API_KEY)"
   ]
  },
  {
   "cell_type": "code",
   "execution_count": 3,
   "metadata": {},
   "outputs": [
    {
     "name": "stdout",
     "output_type": "stream",
     "text": [
      "models/embedding-001\n",
      "models/text-embedding-004\n"
     ]
    }
   ],
   "source": [
    "for m in genai.list_models():\n",
    "  if 'embedContent' in m.supported_generation_methods:\n",
    "    print(m.name)"
   ]
  },
  {
   "cell_type": "code",
   "execution_count": 4,
   "metadata": {},
   "outputs": [
    {
     "name": "stdout",
     "output_type": "stream",
     "text": [
      "5332\n"
     ]
    },
    {
     "data": {
      "text/plain": [
       "'The term basic is relative to the person asking the question . Your rate for basic insurance which I would consider to be liability only coverage and at your state minimum levels at this time can be as low as $ 30/mo . Your rates depend on your driving record , geographical area , and your credit history , among other factors . Please contact a local agent to discuss your needs . '"
      ]
     },
     "execution_count": 4,
     "metadata": {},
     "output_type": "execute_result"
    }
   ],
   "source": [
    "documents = []\n",
    "with open('insuranceQA-v2/train_part4.jsonl', 'r') as file:\n",
    "    for line in file:\n",
    "        documents.append(json.loads(line))\n",
    "\n",
    "# Extract input and output from the JSON data\n",
    "documents = [(entry['input'], entry['output']) for entry in documents]\n",
    "print(len(documents))\n",
    "documents[0][1]"
   ]
  },
  {
   "cell_type": "code",
   "execution_count": 5,
   "metadata": {},
   "outputs": [
    {
     "name": "stdout",
     "output_type": "stream",
     "text": [
      "768\n",
      "{'embedding': [-0.0021609126, -0.003164448, -0.060120765, -0.0071218405, 0.00087754615, 0.04058192, 0.04457149, 0.035524692, -0.047465388, 0.008888606, -0.027958257, 0.011335692, -0.0024438684, 0.0030851841, -0.018796144, -0.055550933, 0.031426456, 0.00065491674, -0.11370059, 0.06370807, -0.021750022, -0.021367034, -0.09982074, -0.008604742, -0.033300586, -0.012815639, 0.07153146, 0.03706478, 0.02297012, 0.043331206, 0.01067061, 0.040685344, 0.03636141, -0.036222056, -0.017799364, -0.014820968, 0.0053205043, -0.017382711, 0.07044941, 0.0020212498, -0.018208733, 0.017558081, 0.006493213, 0.12724239, -0.023805205, 0.010057812, -0.0006948954, 0.07085626, -0.056457285, 0.01831114, 0.09046226, 0.021575559, -0.06656088, 0.026865069, -0.0034812505, -0.0011228691, -0.06535635, -0.0018169151, 0.08672994, 0.02874761, -0.024817277, 0.004653874, -0.058998518, 0.03206169, -0.022604037, -0.015454266, -0.013758667, 0.021129975, -0.047893398, 0.02573244, 0.013028228, -0.018002002, -0.039879415, 0.023450838, -0.004208126, -0.027456919, -0.032786608, -0.03151697, 0.016166035, 0.03236463, -0.018289568, 0.037466213, 0.056439914, 0.018822784, -0.031625833, -0.072923765, 0.030363297, -0.059991967, -0.093077235, 0.04188785, 0.06492768, -0.024198279, 0.039436355, 0.012329493, 0.03184258, -0.01583737, -0.08348356, -0.078226775, 0.050835844, 0.07948488, 0.02687845, -0.0038086297, 0.011806115, -0.08685925, 0.028630126, 0.06522583, -0.015315894, -0.0055563995, -0.021313203, 0.0024531975, -0.0034198368, -0.042501274, 0.012679338, 0.014422546, 0.0045323945, -0.013868992, -0.06397065, -0.02308406, -0.034713272, 0.018988913, 0.00047666705, -0.02198418, -0.027781392, 0.05325701, 0.06580533, -0.009980823, 0.053907834, -0.0274338, -0.056807593, -0.025917295, 0.08114591, -0.05822318, -0.028904257, 0.0018085615, -0.01615572, -0.0061115585, 0.076104954, -0.0005716556, -0.010480926, 0.015245492, 0.029938709, -0.039273947, -0.048696317, 0.040946666, -0.03027104, -0.010457252, 0.01871332, 0.0036463204, 0.018723749, 0.014655201, -0.01162107, -0.0026406597, -0.0030220416, 0.015200439, -0.039530482, -0.02520664, 0.0004117838, -0.006891531, 0.041529354, 0.00037589864, 0.021241354, -0.072420485, -0.007229296, 0.011068717, -0.008963022, -0.032569725, 0.04191558, -0.0040378748, 0.034011792, -0.024002777, -0.019590672, 0.04433918, 0.009472289, 0.008021129, 0.011456312, 0.022549933, -0.011292307, -0.045068257, -0.054616608, -0.063114956, 0.1098535, 0.040681556, -0.036725014, -0.0516959, 0.018958293, 0.048538268, -0.012619441, 0.027218131, 0.023783153, 0.039537083, 0.014628235, -0.0368002, 0.037968893, 0.013039647, 0.01711052, -0.034588154, 0.057411328, -0.08706811, 0.072731294, -0.024207508, -0.0052339216, 0.067509174, 0.00049688853, -0.02011249, -0.03570067, 0.022825453, -0.011088672, -0.0899404, 0.05300786, 0.026679972, -0.06355843, 0.014337063, -0.032153014, -0.08108302, -0.011651656, -0.026982483, 0.051126007, 0.004203101, 0.014722821, -0.06912019, 0.033017915, -0.02038064, -0.01755625, -0.008474079, 0.065096796, 0.044928063, -0.0051354473, -0.06274738, 0.0017220126, 0.0055058836, 0.0015622866, -0.01911462, -0.03496066, 0.029834455, -0.041118104, 0.07154544, 0.0034748958, -0.04466466, 0.0141222915, 0.01237236, -0.020914642, 0.07786713, 0.027588828, -0.021992272, 0.0020365897, 0.010755597, -0.005880726, 0.035968713, 0.009015996, -0.08974196, 0.006003132, 0.030479098, -0.00091704656, 0.022828469, -0.0154529065, -0.03349038, 0.027941458, -0.006255118, -0.065369844, -0.0082471, 0.02437009, -0.0056163543, -0.045140833, -0.03782263, 0.005213898, -0.055022687, -0.030458711, 0.027596708, 0.022788934, 0.008157762, 0.017187998, -0.055844393, -0.019837536, -0.06927516, 0.007553927, 0.04790273, -0.044647854, 0.0069713355, -0.03351755, -0.025211833, 0.028168628, -0.0052331104, -0.0245547, -0.024444215, 0.01357072, -0.029820178, -0.014135859, 0.033803686, 0.0026204896, -0.020539653, 0.039212514, -0.011670823, -0.0361659, -0.017730497, 0.021883996, 0.0073586283, 0.03926711, 0.061975095, 0.0006272935, 0.010340809, 0.028115908, 0.014363926, -0.016072912, 0.044381868, -0.022980072, 0.035098057, -0.01599796, -0.045488346, -0.045004643, 0.0021473933, -0.053043764, -0.007153597, -0.045635164, -0.045014076, -0.023607694, -0.014734066, -0.09750219, -0.019866766, -0.026841233, -0.015316158, 0.015268078, -0.00048555847, -0.041345224, -0.07475691, 0.015535082, 0.0124677755, 0.00026140996, 0.016619474, 0.033363223, 0.025411787, -0.0019558838, 0.021416293, -0.03470333, -0.019757444, -0.021565786, 0.039885085, -0.01373408, 0.011723967, 0.076794945, 0.06626573, -0.0033808837, -0.044787057, 0.057418916, 0.010237068, -0.025212564, 0.056616034, 0.04576788, 0.026372831, 0.008778674, 0.0048026573, -0.009786107, 0.018159354, 0.062457725, -0.0150687415, 0.013217123, -0.03029227, 0.0010112339, -0.008269976, -0.009218753, -0.04567559, 0.009605763, 0.0014220168, -0.031690754, 0.008256998, -0.015835248, -0.015977358, 0.01268417, 0.03587063, -0.017795663, -0.058163222, -0.025969855, -0.022584002, 0.034757074, 0.08295892, 0.019076664, -0.0332361, 0.00086036336, 0.04628674, 0.03058935, -0.033383977, 0.067723125, -0.03997112, 0.034124188, 0.018904991, -0.02292492, 0.028375557, -0.021087326, -0.035895206, 0.08680358, -0.0068046125, -0.04579074, 0.06242105, 0.027131189, -0.012084887, 0.06725185, 0.020581177, -0.05020455, 0.013283424, 0.04394035, 0.04562581, -0.025263086, 0.043101557, 0.028965598, -0.029554756, -0.0167847, -0.04150607, 0.07761759, 0.0035380858, -0.012565968, -0.011527182, -0.037313726, -0.024951845, 0.0058037494, -0.0041362927, -0.009895256, -0.010838153, 0.04118126, -0.058472384, -0.024207024, -0.0027465755, -0.03646396, 0.012527367, 0.098081894, -0.011658653, -0.009657983, -0.048087474, -0.06333792, -0.0223808, 0.021717599, 0.04548322, -0.0014466807, -0.0009415967, -0.05116113, 0.0062555633, -0.03722196, 0.068452954, -0.0050316695, -0.023338528, 0.026488187, -0.014329626, -0.05195839, -0.06642493, 0.05622765, 0.054919224, -0.0037273148, 0.009672952, 0.04097342, 0.07482766, -0.008491798, -0.014202998, 0.0040703663, 0.0106487, -0.009163019, -0.071047954, -0.023398766, 0.054741897, 0.012527596, 0.010918881, 0.031438105, -0.023090048, -0.0076193814, -0.0064941975, 0.06131103, 0.05488424, 0.01629616, 0.009213807, -0.0100128455, -0.0377262, -0.03159498, 0.014321739, 0.021967571, 0.008234688, -0.013605471, -0.036981184, -0.01135382, 0.01644862, 0.0024946348, 0.03515783, -0.0030174106, -0.022457877, -0.04320093, 0.039250292, -0.024913969, 0.02132271, 0.01730469, -0.024088548, -0.06819147, 0.04580229, 0.016943043, 0.01516584, 0.035624187, 0.041948527, -0.0130237285, -0.0024168636, -0.05702779, -0.019560823, 0.085398555, -0.046058115, 0.025539203, 0.015732674, 0.052868392, 0.06709511, 0.002021922, -0.019373171, -0.00077892235, 0.06557979, -0.004795798, -0.015438432, 0.036140103, -0.007846715, 0.049123388, -0.025078002, -0.009602071, 0.044912443, -0.040892642, 0.03634363, -0.03212278, 0.0061166417, -0.00479082, 0.039269347, -0.015599866, -0.023184173, 0.030772438, 0.007796386, 0.031201154, -0.03193287, -0.028833428, 0.04266447, 0.020386947, -0.02652124, -0.018275172, 0.07938739, 0.0062334333, -0.024666376, 0.008384334, 0.004547929, -0.03221171, 0.039343387, -0.015227509, 0.029678503, 0.010926635, -0.023886517, 0.0005733539, 0.0025740184, 0.023600519, -0.010103461, -0.0008779924, 0.08328832, 0.012755144, 0.07518913, 0.0637905, -0.051227637, 0.007082784, 0.03781216, -0.034073085, 0.008693579, 0.017402083, -0.0356867, -0.019208489, 0.01020327, 0.03525957, -0.024630565, -0.00407374, -0.016824434, 0.032621834, 0.049013812, -0.024412578, 0.07099586, -0.03583264, -0.031467717, -0.016279126, -0.045612827, -0.00533646, 0.06096306, -0.029720537, -0.014944071, 0.00055744, 0.062879056, 0.05484685, -0.031882137, 0.009163748, -0.020831022, 0.09729149, 0.00049144815, 0.004821661, -0.002601175, -0.022112133, -0.028212149, 0.037642844, 0.004861345, 0.015579628, 0.01749499, 0.031151878, -0.01616276, 0.021688374, -0.040989432, -0.045957137, -0.0009900918, 0.04005992, -0.01493298, -0.050075203, -0.0029836134, 0.03631741, -0.018724699, -0.0053574108, -0.06539702, -0.054888148, -0.010846952, -0.013839001, -0.026046028, 0.018400697, -0.008679507, 0.0029984873, -0.043884728, -0.07548981, -0.012509257, 0.01683372, 0.00596608, -0.009286801, 0.0048333467, 0.01328815, 0.044487163, 0.042600162, 0.034666244, -0.005864964, 0.032439873, -0.014731301, -0.018062482, 0.012705783, 0.025589705, -0.002188632, 0.044242382, 0.012825207, -0.023868673, -0.014569381, 0.019376064, 0.061704047, -0.024549218, -0.036969163, -0.018150708, 0.021876771, 0.00429977, 0.045531828, 0.005237859, -0.0023627828, 0.027524296, -0.016501067, 0.020849422, 0.059158023, 0.01889507, 0.018007873, 0.06938754, -0.06493021, -0.012838751, -0.018592667, 0.025974024, -0.03138828, 0.0060307872, 0.0070324005, -0.03132151, 0.0039034826, 0.0029629632, 0.002891127, 0.055152304, -0.06054552, -0.016353333, -0.032977678, 0.038495805, 0.013450341, -0.00093515735, -0.0010836896, -0.004386776, -0.0015740322, 0.010137462, -0.00362478, 0.0022091067, -0.012050393, 0.01054007, 0.012293527, 0.065583885, -0.049255308, -0.010393073, 0.007834901, 0.0023164838, 0.020123335, -0.0005748775, 0.047603834, -0.021312136, -0.036511716, 0.020038763, -0.033664703, 0.03470303, -0.039431985, 0.00031958584, -0.006578146, 0.0058009075, 0.010065485, -0.0107763, -0.032846607, 0.018151166, -0.008613524, 0.0466458, -0.06514564, -0.06675929, 0.019312408, 0.051398642, -0.0023500938, -0.013336443, -0.09339641, -0.04417582, -0.046290956, 0.022695858, 0.03327606, 0.025937023, 0.013717734, -0.03037512, 0.028398586, -0.025521653, 0.0076557575, 0.023146354, -0.062285166, -0.055814162, 0.061392765, 0.047085274, 0.025118787, -0.02755592, -0.009233601, -0.04038733, -0.012296262, 0.031200122, 0.019559905, -0.0060071363, -0.015351037, 0.052823436, -0.008057704, -0.03927101, -0.006916383, 0.031160148, -0.041394014, -0.025149174, -0.049297653, -0.014618532, -0.043699507, 0.0009963369, 0.02933131, 0.015508134, -0.023674956, 0.009532896, -0.041661598, -0.0013048653, -0.04823801, 0.008977999, 0.053565104, -0.011124273, -0.009232777, -0.03714648, 0.024631197, 0.0038618585, 0.03643936, 0.006305065, 0.0051025287, 0.039781433, -0.018040739, 0.02533758, -0.029607477, -0.030796519, 0.07133151, -0.01889852]}\n"
     ]
    }
   ],
   "source": [
    "title = \"The next generation of AI for developers and Google Workspace\"\n",
    "sample_text = (\"Title: The next generation of AI for developers and Google Workspace\"\n",
    "    \"\\n\"\n",
    "    \"Full article:\\n\"\n",
    "    \"\\n\"\n",
    "    \"Gemini API & Google AI Studio: An approachable way to explore and prototype with generative AI applications\")\n",
    "\n",
    "model = 'models/text-embedding-004'\n",
    "embedding = genai.embed_content(model=model,\n",
    "                                content=sample_text,\n",
    "                                task_type=\"retrieval_document\",\n",
    "                                title=title)\n",
    "\n",
    "embedding_dim=(len(embedding['embedding']))\n",
    "print(embedding_dim)\n",
    "print(embedding)"
   ]
  },
  {
   "cell_type": "code",
   "execution_count": 6,
   "metadata": {},
   "outputs": [],
   "source": [
    "def embed_fn(title, text):\n",
    "  return genai.embed_content(model=model,\n",
    "                             content=text,\n",
    "                             task_type=\"retrieval_document\",\n",
    "                             title=title)[\"embedding\"]"
   ]
  },
  {
   "cell_type": "code",
   "execution_count": 7,
   "metadata": {},
   "outputs": [],
   "source": [
    "from pymilvus import MilvusClient,utility\n",
    "\n",
    "milvus_client = MilvusClient(uri=uri,token=token)\n",
    "\n",
    "collection_name = \"my_rag_collection2\""
   ]
  },
  {
   "cell_type": "code",
   "execution_count": 8,
   "metadata": {},
   "outputs": [
    {
     "data": {
      "text/plain": [
       "'if milvus_client.has_collection(collection_name):\\n    milvus_client.drop_collection(collection_name)\\nmilvus_client.create_collection(\\n    collection_name=collection_name,\\n    dimension=embedding_dim,\\n    metric_type=\"IP\",  # Inner product distance\\n    consistency_level=\"Strong\",  # Strong consistency level\\n)'"
      ]
     },
     "execution_count": 8,
     "metadata": {},
     "output_type": "execute_result"
    }
   ],
   "source": [
    "'''if milvus_client.has_collection(collection_name):\n",
    "    milvus_client.drop_collection(collection_name)\n",
    "milvus_client.create_collection(\n",
    "    collection_name=collection_name,\n",
    "    dimension=embedding_dim,\n",
    "    metric_type=\"IP\",  # Inner product distance\n",
    "    consistency_level=\"Strong\",  # Strong consistency level\n",
    ")'''"
   ]
  },
  {
   "cell_type": "code",
   "execution_count": 9,
   "metadata": {},
   "outputs": [
    {
     "name": "stderr",
     "output_type": "stream",
     "text": [
      "Creating embeddings:   0%|          | 21/5332 [00:09<39:47,  2.22it/s] \n"
     ]
    },
    {
     "ename": "KeyboardInterrupt",
     "evalue": "",
     "output_type": "error",
     "traceback": [
      "\u001b[1;31m---------------------------------------------------------------------------\u001b[0m",
      "\u001b[1;31mKeyboardInterrupt\u001b[0m                         Traceback (most recent call last)",
      "Cell \u001b[1;32mIn[9], line 6\u001b[0m\n\u001b[0;32m      3\u001b[0m data \u001b[38;5;241m=\u001b[39m []\n\u001b[0;32m      5\u001b[0m \u001b[38;5;28;01mfor\u001b[39;00m i, line \u001b[38;5;129;01min\u001b[39;00m \u001b[38;5;28menumerate\u001b[39m(tqdm(documents, desc\u001b[38;5;241m=\u001b[39m\u001b[38;5;124m\"\u001b[39m\u001b[38;5;124mCreating embeddings\u001b[39m\u001b[38;5;124m\"\u001b[39m)):\n\u001b[1;32m----> 6\u001b[0m     data\u001b[38;5;241m.\u001b[39mappend({\u001b[38;5;124m\"\u001b[39m\u001b[38;5;124mprimary_key\u001b[39m\u001b[38;5;124m\"\u001b[39m: i, \u001b[38;5;124m\"\u001b[39m\u001b[38;5;124mvector\u001b[39m\u001b[38;5;124m\"\u001b[39m: \u001b[43membed_fn\u001b[49m\u001b[43m(\u001b[49m\u001b[43mline\u001b[49m\u001b[43m[\u001b[49m\u001b[38;5;241;43m0\u001b[39;49m\u001b[43m]\u001b[49m\u001b[43m,\u001b[49m\u001b[43mline\u001b[49m\u001b[43m[\u001b[49m\u001b[38;5;241;43m1\u001b[39;49m\u001b[43m]\u001b[49m\u001b[43m)\u001b[49m, \u001b[38;5;124m\"\u001b[39m\u001b[38;5;124mtext\u001b[39m\u001b[38;5;124m\"\u001b[39m: line})\n\u001b[0;32m      9\u001b[0m milvus_client\u001b[38;5;241m.\u001b[39minsert(collection_name\u001b[38;5;241m=\u001b[39mcollection_name, data\u001b[38;5;241m=\u001b[39mdata)\n",
      "Cell \u001b[1;32mIn[6], line 2\u001b[0m, in \u001b[0;36membed_fn\u001b[1;34m(title, text)\u001b[0m\n\u001b[0;32m      1\u001b[0m \u001b[38;5;28;01mdef\u001b[39;00m \u001b[38;5;21membed_fn\u001b[39m(title, text):\n\u001b[1;32m----> 2\u001b[0m   \u001b[38;5;28;01mreturn\u001b[39;00m \u001b[43mgenai\u001b[49m\u001b[38;5;241;43m.\u001b[39;49m\u001b[43membed_content\u001b[49m\u001b[43m(\u001b[49m\u001b[43mmodel\u001b[49m\u001b[38;5;241;43m=\u001b[39;49m\u001b[43mmodel\u001b[49m\u001b[43m,\u001b[49m\n\u001b[0;32m      3\u001b[0m \u001b[43m                             \u001b[49m\u001b[43mcontent\u001b[49m\u001b[38;5;241;43m=\u001b[39;49m\u001b[43mtext\u001b[49m\u001b[43m,\u001b[49m\n\u001b[0;32m      4\u001b[0m \u001b[43m                             \u001b[49m\u001b[43mtask_type\u001b[49m\u001b[38;5;241;43m=\u001b[39;49m\u001b[38;5;124;43m\"\u001b[39;49m\u001b[38;5;124;43mretrieval_document\u001b[39;49m\u001b[38;5;124;43m\"\u001b[39;49m\u001b[43m,\u001b[49m\n\u001b[0;32m      5\u001b[0m \u001b[43m                             \u001b[49m\u001b[43mtitle\u001b[49m\u001b[38;5;241;43m=\u001b[39;49m\u001b[43mtitle\u001b[49m\u001b[43m)\u001b[49m[\u001b[38;5;124m\"\u001b[39m\u001b[38;5;124membedding\u001b[39m\u001b[38;5;124m\"\u001b[39m]\n",
      "File \u001b[1;32mc:\\Python312\\Lib\\site-packages\\google\\generativeai\\embedding.py:182\u001b[0m, in \u001b[0;36membed_content\u001b[1;34m(model, content, task_type, title, client, request_options)\u001b[0m\n\u001b[0;32m    178\u001b[0m \u001b[38;5;28;01melse\u001b[39;00m:\n\u001b[0;32m    179\u001b[0m     embedding_request \u001b[38;5;241m=\u001b[39m glm\u001b[38;5;241m.\u001b[39mEmbedContentRequest(\n\u001b[0;32m    180\u001b[0m         model\u001b[38;5;241m=\u001b[39mmodel, content\u001b[38;5;241m=\u001b[39mcontent_types\u001b[38;5;241m.\u001b[39mto_content(content), task_type\u001b[38;5;241m=\u001b[39mtask_type, title\u001b[38;5;241m=\u001b[39mtitle\n\u001b[0;32m    181\u001b[0m     )\n\u001b[1;32m--> 182\u001b[0m     embedding_response \u001b[38;5;241m=\u001b[39m \u001b[43mclient\u001b[49m\u001b[38;5;241;43m.\u001b[39;49m\u001b[43membed_content\u001b[49m\u001b[43m(\u001b[49m\n\u001b[0;32m    183\u001b[0m \u001b[43m        \u001b[49m\u001b[43membedding_request\u001b[49m\u001b[43m,\u001b[49m\n\u001b[0;32m    184\u001b[0m \u001b[43m        \u001b[49m\u001b[38;5;241;43m*\u001b[39;49m\u001b[38;5;241;43m*\u001b[39;49m\u001b[43mrequest_options\u001b[49m\u001b[43m,\u001b[49m\n\u001b[0;32m    185\u001b[0m \u001b[43m    \u001b[49m\u001b[43m)\u001b[49m\n\u001b[0;32m    186\u001b[0m     embedding_dict \u001b[38;5;241m=\u001b[39m \u001b[38;5;28mtype\u001b[39m(embedding_response)\u001b[38;5;241m.\u001b[39mto_dict(embedding_response)\n\u001b[0;32m    187\u001b[0m     embedding_dict[\u001b[38;5;124m\"\u001b[39m\u001b[38;5;124membedding\u001b[39m\u001b[38;5;124m\"\u001b[39m] \u001b[38;5;241m=\u001b[39m embedding_dict[\u001b[38;5;124m\"\u001b[39m\u001b[38;5;124membedding\u001b[39m\u001b[38;5;124m\"\u001b[39m][\u001b[38;5;124m\"\u001b[39m\u001b[38;5;124mvalues\u001b[39m\u001b[38;5;124m\"\u001b[39m]\n",
      "File \u001b[1;32mc:\\Python312\\Lib\\site-packages\\google\\ai\\generativelanguage_v1beta\\services\\generative_service\\client.py:968\u001b[0m, in \u001b[0;36mGenerativeServiceClient.embed_content\u001b[1;34m(self, request, model, content, retry, timeout, metadata)\u001b[0m\n\u001b[0;32m    963\u001b[0m metadata \u001b[38;5;241m=\u001b[39m \u001b[38;5;28mtuple\u001b[39m(metadata) \u001b[38;5;241m+\u001b[39m (\n\u001b[0;32m    964\u001b[0m     gapic_v1\u001b[38;5;241m.\u001b[39mrouting_header\u001b[38;5;241m.\u001b[39mto_grpc_metadata(((\u001b[38;5;124m\"\u001b[39m\u001b[38;5;124mmodel\u001b[39m\u001b[38;5;124m\"\u001b[39m, request\u001b[38;5;241m.\u001b[39mmodel),)),\n\u001b[0;32m    965\u001b[0m )\n\u001b[0;32m    967\u001b[0m \u001b[38;5;66;03m# Send the request.\u001b[39;00m\n\u001b[1;32m--> 968\u001b[0m response \u001b[38;5;241m=\u001b[39m \u001b[43mrpc\u001b[49m\u001b[43m(\u001b[49m\n\u001b[0;32m    969\u001b[0m \u001b[43m    \u001b[49m\u001b[43mrequest\u001b[49m\u001b[43m,\u001b[49m\n\u001b[0;32m    970\u001b[0m \u001b[43m    \u001b[49m\u001b[43mretry\u001b[49m\u001b[38;5;241;43m=\u001b[39;49m\u001b[43mretry\u001b[49m\u001b[43m,\u001b[49m\n\u001b[0;32m    971\u001b[0m \u001b[43m    \u001b[49m\u001b[43mtimeout\u001b[49m\u001b[38;5;241;43m=\u001b[39;49m\u001b[43mtimeout\u001b[49m\u001b[43m,\u001b[49m\n\u001b[0;32m    972\u001b[0m \u001b[43m    \u001b[49m\u001b[43mmetadata\u001b[49m\u001b[38;5;241;43m=\u001b[39;49m\u001b[43mmetadata\u001b[49m\u001b[43m,\u001b[49m\n\u001b[0;32m    973\u001b[0m \u001b[43m\u001b[49m\u001b[43m)\u001b[49m\n\u001b[0;32m    975\u001b[0m \u001b[38;5;66;03m# Done; return the response.\u001b[39;00m\n\u001b[0;32m    976\u001b[0m \u001b[38;5;28;01mreturn\u001b[39;00m response\n",
      "File \u001b[1;32mc:\\Python312\\Lib\\site-packages\\google\\api_core\\gapic_v1\\method.py:131\u001b[0m, in \u001b[0;36m_GapicCallable.__call__\u001b[1;34m(self, timeout, retry, compression, *args, **kwargs)\u001b[0m\n\u001b[0;32m    128\u001b[0m \u001b[38;5;28;01mif\u001b[39;00m \u001b[38;5;28mself\u001b[39m\u001b[38;5;241m.\u001b[39m_compression \u001b[38;5;129;01mis\u001b[39;00m \u001b[38;5;129;01mnot\u001b[39;00m \u001b[38;5;28;01mNone\u001b[39;00m:\n\u001b[0;32m    129\u001b[0m     kwargs[\u001b[38;5;124m\"\u001b[39m\u001b[38;5;124mcompression\u001b[39m\u001b[38;5;124m\"\u001b[39m] \u001b[38;5;241m=\u001b[39m compression\n\u001b[1;32m--> 131\u001b[0m \u001b[38;5;28;01mreturn\u001b[39;00m \u001b[43mwrapped_func\u001b[49m\u001b[43m(\u001b[49m\u001b[38;5;241;43m*\u001b[39;49m\u001b[43margs\u001b[49m\u001b[43m,\u001b[49m\u001b[43m \u001b[49m\u001b[38;5;241;43m*\u001b[39;49m\u001b[38;5;241;43m*\u001b[39;49m\u001b[43mkwargs\u001b[49m\u001b[43m)\u001b[49m\n",
      "File \u001b[1;32mc:\\Python312\\Lib\\site-packages\\google\\api_core\\retry\\retry_unary.py:293\u001b[0m, in \u001b[0;36mRetry.__call__.<locals>.retry_wrapped_func\u001b[1;34m(*args, **kwargs)\u001b[0m\n\u001b[0;32m    289\u001b[0m target \u001b[38;5;241m=\u001b[39m functools\u001b[38;5;241m.\u001b[39mpartial(func, \u001b[38;5;241m*\u001b[39margs, \u001b[38;5;241m*\u001b[39m\u001b[38;5;241m*\u001b[39mkwargs)\n\u001b[0;32m    290\u001b[0m sleep_generator \u001b[38;5;241m=\u001b[39m exponential_sleep_generator(\n\u001b[0;32m    291\u001b[0m     \u001b[38;5;28mself\u001b[39m\u001b[38;5;241m.\u001b[39m_initial, \u001b[38;5;28mself\u001b[39m\u001b[38;5;241m.\u001b[39m_maximum, multiplier\u001b[38;5;241m=\u001b[39m\u001b[38;5;28mself\u001b[39m\u001b[38;5;241m.\u001b[39m_multiplier\n\u001b[0;32m    292\u001b[0m )\n\u001b[1;32m--> 293\u001b[0m \u001b[38;5;28;01mreturn\u001b[39;00m \u001b[43mretry_target\u001b[49m\u001b[43m(\u001b[49m\n\u001b[0;32m    294\u001b[0m \u001b[43m    \u001b[49m\u001b[43mtarget\u001b[49m\u001b[43m,\u001b[49m\n\u001b[0;32m    295\u001b[0m \u001b[43m    \u001b[49m\u001b[38;5;28;43mself\u001b[39;49m\u001b[38;5;241;43m.\u001b[39;49m\u001b[43m_predicate\u001b[49m\u001b[43m,\u001b[49m\n\u001b[0;32m    296\u001b[0m \u001b[43m    \u001b[49m\u001b[43msleep_generator\u001b[49m\u001b[43m,\u001b[49m\n\u001b[0;32m    297\u001b[0m \u001b[43m    \u001b[49m\u001b[43mtimeout\u001b[49m\u001b[38;5;241;43m=\u001b[39;49m\u001b[38;5;28;43mself\u001b[39;49m\u001b[38;5;241;43m.\u001b[39;49m\u001b[43m_timeout\u001b[49m\u001b[43m,\u001b[49m\n\u001b[0;32m    298\u001b[0m \u001b[43m    \u001b[49m\u001b[43mon_error\u001b[49m\u001b[38;5;241;43m=\u001b[39;49m\u001b[43mon_error\u001b[49m\u001b[43m,\u001b[49m\n\u001b[0;32m    299\u001b[0m \u001b[43m\u001b[49m\u001b[43m)\u001b[49m\n",
      "File \u001b[1;32mc:\\Python312\\Lib\\site-packages\\google\\api_core\\retry\\retry_unary.py:144\u001b[0m, in \u001b[0;36mretry_target\u001b[1;34m(target, predicate, sleep_generator, timeout, on_error, exception_factory, **kwargs)\u001b[0m\n\u001b[0;32m    142\u001b[0m \u001b[38;5;28;01mfor\u001b[39;00m sleep \u001b[38;5;129;01min\u001b[39;00m sleep_generator:\n\u001b[0;32m    143\u001b[0m     \u001b[38;5;28;01mtry\u001b[39;00m:\n\u001b[1;32m--> 144\u001b[0m         result \u001b[38;5;241m=\u001b[39m \u001b[43mtarget\u001b[49m\u001b[43m(\u001b[49m\u001b[43m)\u001b[49m\n\u001b[0;32m    145\u001b[0m         \u001b[38;5;28;01mif\u001b[39;00m inspect\u001b[38;5;241m.\u001b[39misawaitable(result):\n\u001b[0;32m    146\u001b[0m             warnings\u001b[38;5;241m.\u001b[39mwarn(_ASYNC_RETRY_WARNING)\n",
      "File \u001b[1;32mc:\\Python312\\Lib\\site-packages\\google\\api_core\\timeout.py:120\u001b[0m, in \u001b[0;36mTimeToDeadlineTimeout.__call__.<locals>.func_with_timeout\u001b[1;34m(*args, **kwargs)\u001b[0m\n\u001b[0;32m    117\u001b[0m     \u001b[38;5;66;03m# Avoid setting negative timeout\u001b[39;00m\n\u001b[0;32m    118\u001b[0m     kwargs[\u001b[38;5;124m\"\u001b[39m\u001b[38;5;124mtimeout\u001b[39m\u001b[38;5;124m\"\u001b[39m] \u001b[38;5;241m=\u001b[39m \u001b[38;5;28mmax\u001b[39m(\u001b[38;5;241m0\u001b[39m, \u001b[38;5;28mself\u001b[39m\u001b[38;5;241m.\u001b[39m_timeout \u001b[38;5;241m-\u001b[39m time_since_first_attempt)\n\u001b[1;32m--> 120\u001b[0m \u001b[38;5;28;01mreturn\u001b[39;00m \u001b[43mfunc\u001b[49m\u001b[43m(\u001b[49m\u001b[38;5;241;43m*\u001b[39;49m\u001b[43margs\u001b[49m\u001b[43m,\u001b[49m\u001b[43m \u001b[49m\u001b[38;5;241;43m*\u001b[39;49m\u001b[38;5;241;43m*\u001b[39;49m\u001b[43mkwargs\u001b[49m\u001b[43m)\u001b[49m\n",
      "File \u001b[1;32mc:\\Python312\\Lib\\site-packages\\google\\api_core\\grpc_helpers.py:76\u001b[0m, in \u001b[0;36m_wrap_unary_errors.<locals>.error_remapped_callable\u001b[1;34m(*args, **kwargs)\u001b[0m\n\u001b[0;32m     73\u001b[0m \u001b[38;5;129m@functools\u001b[39m\u001b[38;5;241m.\u001b[39mwraps(callable_)\n\u001b[0;32m     74\u001b[0m \u001b[38;5;28;01mdef\u001b[39;00m \u001b[38;5;21merror_remapped_callable\u001b[39m(\u001b[38;5;241m*\u001b[39margs, \u001b[38;5;241m*\u001b[39m\u001b[38;5;241m*\u001b[39mkwargs):\n\u001b[0;32m     75\u001b[0m     \u001b[38;5;28;01mtry\u001b[39;00m:\n\u001b[1;32m---> 76\u001b[0m         \u001b[38;5;28;01mreturn\u001b[39;00m \u001b[43mcallable_\u001b[49m\u001b[43m(\u001b[49m\u001b[38;5;241;43m*\u001b[39;49m\u001b[43margs\u001b[49m\u001b[43m,\u001b[49m\u001b[43m \u001b[49m\u001b[38;5;241;43m*\u001b[39;49m\u001b[38;5;241;43m*\u001b[39;49m\u001b[43mkwargs\u001b[49m\u001b[43m)\u001b[49m\n\u001b[0;32m     77\u001b[0m     \u001b[38;5;28;01mexcept\u001b[39;00m grpc\u001b[38;5;241m.\u001b[39mRpcError \u001b[38;5;28;01mas\u001b[39;00m exc:\n\u001b[0;32m     78\u001b[0m         \u001b[38;5;28;01mraise\u001b[39;00m exceptions\u001b[38;5;241m.\u001b[39mfrom_grpc_error(exc) \u001b[38;5;28;01mfrom\u001b[39;00m \u001b[38;5;21;01mexc\u001b[39;00m\n",
      "File \u001b[1;32mc:\\Python312\\Lib\\site-packages\\grpc\\_channel.py:1157\u001b[0m, in \u001b[0;36m_UnaryUnaryMultiCallable.__call__\u001b[1;34m(self, request, timeout, metadata, credentials, wait_for_ready, compression)\u001b[0m\n\u001b[0;32m   1145\u001b[0m \u001b[38;5;28;01mdef\u001b[39;00m \u001b[38;5;21m__call__\u001b[39m(\n\u001b[0;32m   1146\u001b[0m     \u001b[38;5;28mself\u001b[39m,\n\u001b[0;32m   1147\u001b[0m     request: Any,\n\u001b[1;32m   (...)\u001b[0m\n\u001b[0;32m   1152\u001b[0m     compression: Optional[grpc\u001b[38;5;241m.\u001b[39mCompression] \u001b[38;5;241m=\u001b[39m \u001b[38;5;28;01mNone\u001b[39;00m,\n\u001b[0;32m   1153\u001b[0m ) \u001b[38;5;241m-\u001b[39m\u001b[38;5;241m>\u001b[39m Any:\n\u001b[0;32m   1154\u001b[0m     (\n\u001b[0;32m   1155\u001b[0m         state,\n\u001b[0;32m   1156\u001b[0m         call,\n\u001b[1;32m-> 1157\u001b[0m     ) \u001b[38;5;241m=\u001b[39m \u001b[38;5;28;43mself\u001b[39;49m\u001b[38;5;241;43m.\u001b[39;49m\u001b[43m_blocking\u001b[49m\u001b[43m(\u001b[49m\n\u001b[0;32m   1158\u001b[0m \u001b[43m        \u001b[49m\u001b[43mrequest\u001b[49m\u001b[43m,\u001b[49m\u001b[43m \u001b[49m\u001b[43mtimeout\u001b[49m\u001b[43m,\u001b[49m\u001b[43m \u001b[49m\u001b[43mmetadata\u001b[49m\u001b[43m,\u001b[49m\u001b[43m \u001b[49m\u001b[43mcredentials\u001b[49m\u001b[43m,\u001b[49m\u001b[43m \u001b[49m\u001b[43mwait_for_ready\u001b[49m\u001b[43m,\u001b[49m\u001b[43m \u001b[49m\u001b[43mcompression\u001b[49m\n\u001b[0;32m   1159\u001b[0m \u001b[43m    \u001b[49m\u001b[43m)\u001b[49m\n\u001b[0;32m   1160\u001b[0m     \u001b[38;5;28;01mreturn\u001b[39;00m _end_unary_response_blocking(state, call, \u001b[38;5;28;01mFalse\u001b[39;00m, \u001b[38;5;28;01mNone\u001b[39;00m)\n",
      "File \u001b[1;32mc:\\Python312\\Lib\\site-packages\\grpc\\_channel.py:1141\u001b[0m, in \u001b[0;36m_UnaryUnaryMultiCallable._blocking\u001b[1;34m(self, request, timeout, metadata, credentials, wait_for_ready, compression)\u001b[0m\n\u001b[0;32m   1125\u001b[0m state\u001b[38;5;241m.\u001b[39mmethod \u001b[38;5;241m=\u001b[39m _common\u001b[38;5;241m.\u001b[39mdecode(\u001b[38;5;28mself\u001b[39m\u001b[38;5;241m.\u001b[39m_method)\n\u001b[0;32m   1126\u001b[0m call \u001b[38;5;241m=\u001b[39m \u001b[38;5;28mself\u001b[39m\u001b[38;5;241m.\u001b[39m_channel\u001b[38;5;241m.\u001b[39msegregated_call(\n\u001b[0;32m   1127\u001b[0m     cygrpc\u001b[38;5;241m.\u001b[39mPropagationConstants\u001b[38;5;241m.\u001b[39mGRPC_PROPAGATE_DEFAULTS,\n\u001b[0;32m   1128\u001b[0m     \u001b[38;5;28mself\u001b[39m\u001b[38;5;241m.\u001b[39m_method,\n\u001b[1;32m   (...)\u001b[0m\n\u001b[0;32m   1139\u001b[0m     \u001b[38;5;28mself\u001b[39m\u001b[38;5;241m.\u001b[39m_context,\n\u001b[0;32m   1140\u001b[0m )\n\u001b[1;32m-> 1141\u001b[0m event \u001b[38;5;241m=\u001b[39m \u001b[43mcall\u001b[49m\u001b[38;5;241;43m.\u001b[39;49m\u001b[43mnext_event\u001b[49m\u001b[43m(\u001b[49m\u001b[43m)\u001b[49m\n\u001b[0;32m   1142\u001b[0m _handle_event(event, state, \u001b[38;5;28mself\u001b[39m\u001b[38;5;241m.\u001b[39m_response_deserializer)\n\u001b[0;32m   1143\u001b[0m \u001b[38;5;28;01mreturn\u001b[39;00m state, call\n",
      "File \u001b[1;32msrc\\python\\grpcio\\grpc\\_cython\\_cygrpc/channel.pyx.pxi:366\u001b[0m, in \u001b[0;36mgrpc._cython.cygrpc.SegregatedCall.next_event\u001b[1;34m()\u001b[0m\n",
      "File \u001b[1;32msrc\\python\\grpcio\\grpc\\_cython\\_cygrpc/channel.pyx.pxi:187\u001b[0m, in \u001b[0;36mgrpc._cython.cygrpc._next_call_event\u001b[1;34m()\u001b[0m\n",
      "File \u001b[1;32msrc\\python\\grpcio\\grpc\\_cython\\_cygrpc/channel.pyx.pxi:181\u001b[0m, in \u001b[0;36mgrpc._cython.cygrpc._next_call_event\u001b[1;34m()\u001b[0m\n",
      "File \u001b[1;32msrc\\python\\grpcio\\grpc\\_cython\\_cygrpc/completion_queue.pyx.pxi:78\u001b[0m, in \u001b[0;36mgrpc._cython.cygrpc._latent_event\u001b[1;34m()\u001b[0m\n",
      "File \u001b[1;32msrc\\python\\grpcio\\grpc\\_cython\\_cygrpc/completion_queue.pyx.pxi:61\u001b[0m, in \u001b[0;36mgrpc._cython.cygrpc._internal_latent_event\u001b[1;34m()\u001b[0m\n",
      "File \u001b[1;32msrc\\python\\grpcio\\grpc\\_cython\\_cygrpc/completion_queue.pyx.pxi:42\u001b[0m, in \u001b[0;36mgrpc._cython.cygrpc._next\u001b[1;34m()\u001b[0m\n",
      "\u001b[1;31mKeyboardInterrupt\u001b[0m: "
     ]
    }
   ],
   "source": [
    "from tqdm import tqdm\n",
    "\n",
    "data = []\n",
    "\n",
    "for i, line in enumerate(tqdm(documents, desc=\"Creating embeddings\")):\n",
    "    data.append({\"primary_key\": i, \"vector\": embed_fn(line[0],line[1]), \"text\": line})\n",
    "    \n",
    "\n",
    "milvus_client.insert(collection_name=collection_name, data=data)"
   ]
  },
  {
   "cell_type": "code",
   "execution_count": null,
   "metadata": {},
   "outputs": [],
   "source": [
    "question = \"What Are Tax Sheltered Annuities?\"\n",
    "\n",
    "search_res = milvus_client.search(\n",
    "    collection_name=collection_name,\n",
    "    data=[\n",
    "        embed_fn(question,question)\n",
    "    ],  # Use the `emb_text` function to convert the question to an embedding vector\n",
    "    limit=3,  # Return top 3 results\n",
    "    search_params={\"metric_type\": \"COSINE\",  \"params\": {\"level\": 2}},  # Inner product distance\n",
    "    output_fields=[\"text\"],  # Return the text field\n",
    ")"
   ]
  },
  {
   "cell_type": "code",
   "execution_count": null,
   "metadata": {},
   "outputs": [
    {
     "name": "stdout",
     "output_type": "stream",
     "text": [
      "[\n",
      "    [\n",
      "        [\n",
      "            \"Should I Shop For Homeowners Insurance? \",\n",
      "            \"I always suggest contacting 5 insurance companies . Saving all your quotes so that comparison is the same with all of the companies . You will find a wide range of prices . I personally suggest going with a company that does not high ball you on your coverage when not needed . They have tendency to raise your premiums yearly based on a national formula as comparing with your actual home value and location \"\n",
      "        ],\n",
      "        0.8984155654907227\n",
      "    ],\n",
      "    [\n",
      "        [\n",
      "            \"Where To Purchase Homeowners Insurance? \",\n",
      "            \"You can purchase your homeowners insurance in a few different ways . I would recommend finding a local agent that you are comfortable dealing with as they will your first and last point of contact in many instances with your insurance carrier . Your local agent is there to provide you the information that you need to make an informed decision about your coverage needs . \"\n",
      "        ],\n",
      "        0.8233009576797485\n",
      "    ],\n",
      "    [\n",
      "        [\n",
      "            \"Which Home Insurance Should I Buy? \",\n",
      "            \"The one that provides you with the coverage that you are most cofortable with . Coverage will vary from carrier to carrier . The most important thing is to have a local agent that you are comfortable working with as this will be the person that you typically contact in the event that you have concerns about coverage , claims , or what additional coverages that you may need in the future . \"\n",
      "        ],\n",
      "        0.8169339895248413\n",
      "    ]\n",
      "]\n"
     ]
    }
   ],
   "source": [
    "retrieved_lines_with_distances = [\n",
    "    (res[\"entity\"][\"text\"], res[\"distance\"]) for res in search_res[0]\n",
    "]\n",
    "print(json.dumps(retrieved_lines_with_distances, indent=4))"
   ]
  }
 ],
 "metadata": {
  "kernelspec": {
   "display_name": "Python 3",
   "language": "python",
   "name": "python3"
  },
  "language_info": {
   "codemirror_mode": {
    "name": "ipython",
    "version": 3
   },
   "file_extension": ".py",
   "mimetype": "text/x-python",
   "name": "python",
   "nbconvert_exporter": "python",
   "pygments_lexer": "ipython3",
   "version": "3.12.2"
  }
 },
 "nbformat": 4,
 "nbformat_minor": 2
}
